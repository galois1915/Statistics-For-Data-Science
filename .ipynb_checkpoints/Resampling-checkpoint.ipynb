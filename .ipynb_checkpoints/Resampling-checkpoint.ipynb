{
 "cells": [
  {
   "cell_type": "markdown",
   "id": "86fc0b78-67c5-41b5-948d-1d7633b72d6e",
   "metadata": {},
   "source": [
    "# Librerias"
   ]
  },
  {
   "cell_type": "code",
   "execution_count": 1,
   "id": "2c4023c5-4fad-412f-905d-c1e313515026",
   "metadata": {},
   "outputs": [],
   "source": [
    "import numpy as np\n",
    "import pandas as pd\n",
    "import matplotlib.pyplot as plt"
   ]
  },
  {
   "cell_type": "code",
   "execution_count": 42,
   "id": "b9820b8e-f2b2-45fe-be00-38d54dc60e43",
   "metadata": {},
   "outputs": [],
   "source": [
    "import os\n",
    "from zipfile import ZipFile\n",
    "from datetime import datetime\n",
    "import seaborn as sns\n",
    "import random"
   ]
  },
  {
   "cell_type": "markdown",
   "id": "56bdc282-0df4-4df7-b211-88c25ac871c6",
   "metadata": {},
   "source": [
    "# Import data"
   ]
  },
  {
   "cell_type": "code",
   "execution_count": 3,
   "id": "1b242d9c-fee1-4369-8903-683c8b673055",
   "metadata": {},
   "outputs": [
    {
     "data": {
      "text/plain": [
       "['DATA_LAB', 'ab_data.zip']"
      ]
     },
     "execution_count": 3,
     "metadata": {},
     "output_type": "execute_result"
    }
   ],
   "source": [
    "os.listdir(\"../../DATA_SET/\")"
   ]
  },
  {
   "cell_type": "code",
   "execution_count": 4,
   "id": "8bc4fca1-27a6-4622-b4f8-62a1acd0a204",
   "metadata": {},
   "outputs": [
    {
     "name": "stdout",
     "output_type": "stream",
     "text": [
      "File Name                                             Modified             Size\n",
      "ab_data.csv                                    2020-08-03 19:50:04     15901933\n"
     ]
    }
   ],
   "source": [
    "path = \"../../DATA_SET/ab_data.zip\"\n",
    "with ZipFile(path, 'r') as zip:\n",
    "    zip.printdir()"
   ]
  },
  {
   "cell_type": "code",
   "execution_count": 5,
   "id": "878bea75-fb74-4802-acbc-c8d2426b63d6",
   "metadata": {},
   "outputs": [],
   "source": [
    "with ZipFile(path, \"r\") as zip:\n",
    "    with zip.open(\"ab_data.csv\") as f:\n",
    "        data = pd.read_csv(f)"
   ]
  },
  {
   "cell_type": "code",
   "execution_count": 6,
   "id": "c9eee0c3-eea5-4987-a979-5fcab4738724",
   "metadata": {},
   "outputs": [
    {
     "data": {
      "text/html": [
       "<div>\n",
       "<style scoped>\n",
       "    .dataframe tbody tr th:only-of-type {\n",
       "        vertical-align: middle;\n",
       "    }\n",
       "\n",
       "    .dataframe tbody tr th {\n",
       "        vertical-align: top;\n",
       "    }\n",
       "\n",
       "    .dataframe thead th {\n",
       "        text-align: right;\n",
       "    }\n",
       "</style>\n",
       "<table border=\"1\" class=\"dataframe\">\n",
       "  <thead>\n",
       "    <tr style=\"text-align: right;\">\n",
       "      <th></th>\n",
       "      <th>user_id</th>\n",
       "      <th>timestamp</th>\n",
       "      <th>group</th>\n",
       "      <th>landing_page</th>\n",
       "      <th>converted</th>\n",
       "    </tr>\n",
       "  </thead>\n",
       "  <tbody>\n",
       "    <tr>\n",
       "      <th>0</th>\n",
       "      <td>851104</td>\n",
       "      <td>2017-01-21 22:11:48.556739</td>\n",
       "      <td>control</td>\n",
       "      <td>old_page</td>\n",
       "      <td>0</td>\n",
       "    </tr>\n",
       "    <tr>\n",
       "      <th>1</th>\n",
       "      <td>804228</td>\n",
       "      <td>2017-01-12 08:01:45.159739</td>\n",
       "      <td>control</td>\n",
       "      <td>old_page</td>\n",
       "      <td>0</td>\n",
       "    </tr>\n",
       "    <tr>\n",
       "      <th>2</th>\n",
       "      <td>661590</td>\n",
       "      <td>2017-01-11 16:55:06.154213</td>\n",
       "      <td>treatment</td>\n",
       "      <td>new_page</td>\n",
       "      <td>0</td>\n",
       "    </tr>\n",
       "    <tr>\n",
       "      <th>3</th>\n",
       "      <td>853541</td>\n",
       "      <td>2017-01-08 18:28:03.143765</td>\n",
       "      <td>treatment</td>\n",
       "      <td>new_page</td>\n",
       "      <td>0</td>\n",
       "    </tr>\n",
       "    <tr>\n",
       "      <th>4</th>\n",
       "      <td>864975</td>\n",
       "      <td>2017-01-21 01:52:26.210827</td>\n",
       "      <td>control</td>\n",
       "      <td>old_page</td>\n",
       "      <td>1</td>\n",
       "    </tr>\n",
       "  </tbody>\n",
       "</table>\n",
       "</div>"
      ],
      "text/plain": [
       "   user_id                   timestamp      group landing_page  converted\n",
       "0   851104  2017-01-21 22:11:48.556739    control     old_page          0\n",
       "1   804228  2017-01-12 08:01:45.159739    control     old_page          0\n",
       "2   661590  2017-01-11 16:55:06.154213  treatment     new_page          0\n",
       "3   853541  2017-01-08 18:28:03.143765  treatment     new_page          0\n",
       "4   864975  2017-01-21 01:52:26.210827    control     old_page          1"
      ]
     },
     "execution_count": 6,
     "metadata": {},
     "output_type": "execute_result"
    }
   ],
   "source": [
    "data.head()"
   ]
  },
  {
   "cell_type": "markdown",
   "id": "18c68024-9fa3-4674-acd7-28b00c841fe3",
   "metadata": {},
   "source": [
    "* user_id - unique identifier for each user\n",
    "* timestamp - associated date and time for each visit to the website by a given user\n",
    "* group - the category a user was grouped into pre-A/B test (control or treatment groups)\n",
    "* landing_page - the page that was displayed to a user when they visited the company website (new_page or old_page)\n",
    "* converted - whether a user converted or not (0 or 1) NB: Users in the control group ought to be displayed the old page, while those in the treatment group ought to see the new page."
   ]
  },
  {
   "cell_type": "code",
   "execution_count": 7,
   "id": "54c444cd-f489-4f85-8d29-e2636e835a69",
   "metadata": {},
   "outputs": [
    {
     "data": {
      "text/plain": [
       "user_id          int64\n",
       "timestamp       object\n",
       "group           object\n",
       "landing_page    object\n",
       "converted        int64\n",
       "dtype: object"
      ]
     },
     "execution_count": 7,
     "metadata": {},
     "output_type": "execute_result"
    }
   ],
   "source": [
    "data.dtypes"
   ]
  },
  {
   "cell_type": "markdown",
   "id": "437ae74c-8794-4850-b323-0d20afd094c5",
   "metadata": {},
   "source": [
    "# Date time"
   ]
  },
  {
   "cell_type": "code",
   "execution_count": 8,
   "id": "232d4044-26f2-4979-a012-4cf9b55cef42",
   "metadata": {},
   "outputs": [],
   "source": [
    "data[\"timestamp\"] = data[\"timestamp\"].apply(lambda x: x.split(\".\")[0])"
   ]
  },
  {
   "cell_type": "code",
   "execution_count": 9,
   "id": "a2f9a165-ef03-45d9-9a11-1d8914d92b92",
   "metadata": {},
   "outputs": [
    {
     "data": {
      "text/html": [
       "<div>\n",
       "<style scoped>\n",
       "    .dataframe tbody tr th:only-of-type {\n",
       "        vertical-align: middle;\n",
       "    }\n",
       "\n",
       "    .dataframe tbody tr th {\n",
       "        vertical-align: top;\n",
       "    }\n",
       "\n",
       "    .dataframe thead th {\n",
       "        text-align: right;\n",
       "    }\n",
       "</style>\n",
       "<table border=\"1\" class=\"dataframe\">\n",
       "  <thead>\n",
       "    <tr style=\"text-align: right;\">\n",
       "      <th></th>\n",
       "      <th>user_id</th>\n",
       "      <th>timestamp</th>\n",
       "      <th>group</th>\n",
       "      <th>landing_page</th>\n",
       "      <th>converted</th>\n",
       "    </tr>\n",
       "  </thead>\n",
       "  <tbody>\n",
       "    <tr>\n",
       "      <th>0</th>\n",
       "      <td>851104</td>\n",
       "      <td>2017-01-21 22:11:48</td>\n",
       "      <td>control</td>\n",
       "      <td>old_page</td>\n",
       "      <td>0</td>\n",
       "    </tr>\n",
       "    <tr>\n",
       "      <th>1</th>\n",
       "      <td>804228</td>\n",
       "      <td>2017-01-12 08:01:45</td>\n",
       "      <td>control</td>\n",
       "      <td>old_page</td>\n",
       "      <td>0</td>\n",
       "    </tr>\n",
       "    <tr>\n",
       "      <th>2</th>\n",
       "      <td>661590</td>\n",
       "      <td>2017-01-11 16:55:06</td>\n",
       "      <td>treatment</td>\n",
       "      <td>new_page</td>\n",
       "      <td>0</td>\n",
       "    </tr>\n",
       "    <tr>\n",
       "      <th>3</th>\n",
       "      <td>853541</td>\n",
       "      <td>2017-01-08 18:28:03</td>\n",
       "      <td>treatment</td>\n",
       "      <td>new_page</td>\n",
       "      <td>0</td>\n",
       "    </tr>\n",
       "    <tr>\n",
       "      <th>4</th>\n",
       "      <td>864975</td>\n",
       "      <td>2017-01-21 01:52:26</td>\n",
       "      <td>control</td>\n",
       "      <td>old_page</td>\n",
       "      <td>1</td>\n",
       "    </tr>\n",
       "  </tbody>\n",
       "</table>\n",
       "</div>"
      ],
      "text/plain": [
       "   user_id            timestamp      group landing_page  converted\n",
       "0   851104  2017-01-21 22:11:48    control     old_page          0\n",
       "1   804228  2017-01-12 08:01:45    control     old_page          0\n",
       "2   661590  2017-01-11 16:55:06  treatment     new_page          0\n",
       "3   853541  2017-01-08 18:28:03  treatment     new_page          0\n",
       "4   864975  2017-01-21 01:52:26    control     old_page          1"
      ]
     },
     "execution_count": 9,
     "metadata": {},
     "output_type": "execute_result"
    }
   ],
   "source": [
    "data.head()"
   ]
  },
  {
   "cell_type": "code",
   "execution_count": 10,
   "id": "5d16db6b-0160-41b5-9090-ddb4914ea1b3",
   "metadata": {},
   "outputs": [],
   "source": [
    "data[\"timestamp\"] = data[\"timestamp\"].apply(lambda x:\n",
    "                                            datetime.strptime(x,'%Y-%m-%d %H:%M:%S').hour*60+\n",
    "                                            datetime.strptime(x,'%Y-%m-%d %H:%M:%S').minute\n",
    "                                            )"
   ]
  },
  {
   "cell_type": "code",
   "execution_count": 11,
   "id": "8b774783-1008-4752-a28a-b5502260f6fb",
   "metadata": {},
   "outputs": [],
   "source": [
    "data = data.rename(columns={\"timestamp\":\"timestamp_min\"})"
   ]
  },
  {
   "cell_type": "code",
   "execution_count": 12,
   "id": "1fe5bc6b-0aff-436a-946d-c47df7d9fced",
   "metadata": {},
   "outputs": [
    {
     "data": {
      "text/html": [
       "<div>\n",
       "<style scoped>\n",
       "    .dataframe tbody tr th:only-of-type {\n",
       "        vertical-align: middle;\n",
       "    }\n",
       "\n",
       "    .dataframe tbody tr th {\n",
       "        vertical-align: top;\n",
       "    }\n",
       "\n",
       "    .dataframe thead th {\n",
       "        text-align: right;\n",
       "    }\n",
       "</style>\n",
       "<table border=\"1\" class=\"dataframe\">\n",
       "  <thead>\n",
       "    <tr style=\"text-align: right;\">\n",
       "      <th></th>\n",
       "      <th>user_id</th>\n",
       "      <th>timestamp_min</th>\n",
       "      <th>group</th>\n",
       "      <th>landing_page</th>\n",
       "      <th>converted</th>\n",
       "    </tr>\n",
       "  </thead>\n",
       "  <tbody>\n",
       "    <tr>\n",
       "      <th>0</th>\n",
       "      <td>851104</td>\n",
       "      <td>1331</td>\n",
       "      <td>control</td>\n",
       "      <td>old_page</td>\n",
       "      <td>0</td>\n",
       "    </tr>\n",
       "    <tr>\n",
       "      <th>1</th>\n",
       "      <td>804228</td>\n",
       "      <td>481</td>\n",
       "      <td>control</td>\n",
       "      <td>old_page</td>\n",
       "      <td>0</td>\n",
       "    </tr>\n",
       "    <tr>\n",
       "      <th>2</th>\n",
       "      <td>661590</td>\n",
       "      <td>1015</td>\n",
       "      <td>treatment</td>\n",
       "      <td>new_page</td>\n",
       "      <td>0</td>\n",
       "    </tr>\n",
       "    <tr>\n",
       "      <th>3</th>\n",
       "      <td>853541</td>\n",
       "      <td>1108</td>\n",
       "      <td>treatment</td>\n",
       "      <td>new_page</td>\n",
       "      <td>0</td>\n",
       "    </tr>\n",
       "    <tr>\n",
       "      <th>4</th>\n",
       "      <td>864975</td>\n",
       "      <td>112</td>\n",
       "      <td>control</td>\n",
       "      <td>old_page</td>\n",
       "      <td>1</td>\n",
       "    </tr>\n",
       "  </tbody>\n",
       "</table>\n",
       "</div>"
      ],
      "text/plain": [
       "   user_id  timestamp_min      group landing_page  converted\n",
       "0   851104           1331    control     old_page          0\n",
       "1   804228            481    control     old_page          0\n",
       "2   661590           1015  treatment     new_page          0\n",
       "3   853541           1108  treatment     new_page          0\n",
       "4   864975            112    control     old_page          1"
      ]
     },
     "execution_count": 12,
     "metadata": {},
     "output_type": "execute_result"
    }
   ],
   "source": [
    "data.head()"
   ]
  },
  {
   "cell_type": "markdown",
   "id": "1302291f-1f80-4e69-a290-42f916f89bd9",
   "metadata": {},
   "source": [
    "# Select columns"
   ]
  },
  {
   "cell_type": "code",
   "execution_count": 13,
   "id": "d914aa37-38b7-4f40-99fc-e2c656a8e3af",
   "metadata": {},
   "outputs": [],
   "source": [
    "data = data.loc[:,[\"timestamp_min\",\"group\"]]"
   ]
  },
  {
   "cell_type": "markdown",
   "id": "32f5cbdd-2614-4389-b9fe-e622c03bc42a",
   "metadata": {},
   "source": [
    "# Box plot"
   ]
  },
  {
   "cell_type": "code",
   "execution_count": 14,
   "id": "ffe94c3b-c153-4c12-bc6c-3c1114c575d8",
   "metadata": {},
   "outputs": [
    {
     "data": {
      "text/plain": [
       "<AxesSubplot:xlabel='group', ylabel='timestamp_min'>"
      ]
     },
     "execution_count": 14,
     "metadata": {},
     "output_type": "execute_result"
    },
    {
     "data": {
      "image/png": "[encoded data removed]",
      "text/plain": [
       "<Figure size 432x288 with 1 Axes>"
      ]
     },
     "metadata": {
      "needs_background": "light"
     },
     "output_type": "display_data"
    }
   ],
   "source": [
    "sns.boxplot(data=data, y=\"timestamp_min\", x=\"group\")"
   ]
  },
  {
   "cell_type": "code",
   "execution_count": 39,
   "id": "c1a4755b-efbf-42d3-a0cf-25349d37425b",
   "metadata": {},
   "outputs": [
    {
     "data": {
      "text/plain": [
       "0.3156075056346026"
      ]
     },
     "execution_count": 39,
     "metadata": {},
     "output_type": "execute_result"
    }
   ],
   "source": [
    "control   =  data.loc[data[\"group\"]==\"control\",\"timestamp_min\"]\n",
    "treatment =  data.loc[data[\"group\"]==\"treatment\", \"timestamp_min\"]\n",
    "control.mean() - treatment.mean()"
   ]
  },
  {
   "cell_type": "code",
   "execution_count": 40,
   "id": "727fac9b-8a5a-4606-82cd-0d568187cc85",
   "metadata": {},
   "outputs": [
    {
     "data": {
      "text/plain": [
       "(147202, 147276)"
      ]
     },
     "execution_count": 40,
     "metadata": {},
     "output_type": "execute_result"
    }
   ],
   "source": [
    "len(control), len(treatment)"
   ]
  },
  {
   "cell_type": "markdown",
   "id": "196f1943-6d98-4e87-a401-bc2abc3bd0c0",
   "metadata": {},
   "source": [
    "# Resampling"
   ]
  },
  {
   "cell_type": "code",
   "execution_count": 74,
   "id": "c8d98bef-9d8f-4a5b-8e75-2d7c04ace0cd",
   "metadata": {},
   "outputs": [],
   "source": [
    "def perm_fun(x, nA, nB): \n",
    "    n = nA + nB \n",
    "    idx_B = set(random.sample(range(n), nB)) \n",
    "    idx_A = set(range(n)) - idx_B \n",
    "    return x.loc[list(idx_B)].mean() - x.loc[list(idx_A)].mean()"
   ]
  },
  {
   "cell_type": "code",
   "execution_count": 75,
   "id": "620f60d5-9677-4e40-bd0b-f9a73988a1a6",
   "metadata": {},
   "outputs": [
    {
     "data": {
      "text/plain": [
       "2.1095381592267586"
      ]
     },
     "execution_count": 75,
     "metadata": {},
     "output_type": "execute_result"
    }
   ],
   "source": [
    "perm_fun(data.timestamp_min,len(control),len(treatment))"
   ]
  },
  {
   "cell_type": "code",
   "execution_count": 76,
   "id": "e8dbc7a4-0d47-4ee2-b833-0a945049948c",
   "metadata": {},
   "outputs": [],
   "source": [
    "perm_diffs = [perm_fun(data.timestamp_min, len(control), len(treatment)) for _ in range(1000)]"
   ]
  },
  {
   "cell_type": "code",
   "execution_count": 90,
   "id": "cddea18b-261f-4fe9-8e0e-ddad72b961d4",
   "metadata": {},
   "outputs": [
    {
     "data": {
      "image/png": "[encoded data removed]",
      "text/plain": [
       "<Figure size 720x1080 with 1 Axes>"
      ]
     },
     "metadata": {
      "needs_background": "light"
     },
     "output_type": "display_data"
    }
   ],
   "source": [
    "%matplotlib inline\n",
    "fig, ax = plt.subplots(figsize=(10, 15)) \n",
    "ax.hist(perm_diffs, bins=11, rwidth=0.9) \n",
    "ax.axvline(x = control.mean() - treatment.mean(), color='black', lw=2)\n",
    "ax.text(50, 190, 'Observed\\ndifference', bbox={'facecolor':'white'})\n",
    "ax.set_xlabel('Session time differences (in minutes)')\n",
    "ax.set_ylabel('Frequency')\n",
    "plt.show()"
   ]
  },
  {
   "cell_type": "code",
   "execution_count": 100,
   "id": "323d070d-3809-46d7-ab29-ce1d4fd050eb",
   "metadata": {},
   "outputs": [
    {
     "data": {
      "text/plain": [
       "0.422"
      ]
     },
     "execution_count": 100,
     "metadata": {},
     "output_type": "execute_result"
    }
   ],
   "source": [
    "np.mean(np.array(perm_diffs) > control.mean() - treatment.mean())"
   ]
  },
  {
   "cell_type": "markdown",
   "id": "931e7732-fb61-444f-8ce9-2340b155a6e0",
   "metadata": {},
   "source": [
    "shows that mean difference of random permutations often exceeds the observed difference in session times (the vertical line), this happend $42.2\\%$ of the cases"
   ]
  }
 ],
 "metadata": {
  "kernelspec": {
   "display_name": "Python 3 (ipykernel)",
   "language": "python",
   "name": "python3"
  },
  "language_info": {
   "codemirror_mode": {
    "name": "ipython",
    "version": 3
   },
   "file_extension": ".py",
   "mimetype": "text/x-python",
   "name": "python",
   "nbconvert_exporter": "python",
   "pygments_lexer": "ipython3",
   "version": "3.9.12"
  }
 },
 "nbformat": 4,
 "nbformat_minor": 5
}
