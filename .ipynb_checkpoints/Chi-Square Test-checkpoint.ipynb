{
 "cells": [
  {
   "cell_type": "markdown",
   "id": "5160a71b-7f63-41ea-9c52-0fd9669d00ef",
   "metadata": {},
   "source": [
    "# Libreries"
   ]
  },
  {
   "cell_type": "code",
   "execution_count": 1,
   "id": "a3c4a77f-b20f-4608-b530-a7112d7406f5",
   "metadata": {},
   "outputs": [],
   "source": [
    "import os \n",
    "import matplotlib.pyplot as plt\n",
    "import numpy as np\n",
    "import pandas as pd\n",
    "from zipfile import ZipFile\n",
    "import random"
   ]
  },
  {
   "cell_type": "markdown",
   "id": "20653cc1-87c4-45bd-8ee8-500bbbcbb950",
   "metadata": {},
   "source": [
    "# Data"
   ]
  },
  {
   "cell_type": "code",
   "execution_count": 2,
   "id": "1472aa8e-b56c-49e3-bbc1-da83e635974e",
   "metadata": {},
   "outputs": [],
   "source": [
    "data = pd.DataFrame({\"A\":[14,986],\n",
    "                     \"B\":[8,992],\n",
    "                     \"C\":[12,988],\n",
    "                    \"result\":[\"Click\",\"No click\"]})"
   ]
  },
  {
   "cell_type": "code",
   "execution_count": 3,
   "id": "d5f3ed81-81c0-4f7d-8ab8-06cd8a51ed7e",
   "metadata": {},
   "outputs": [],
   "source": [
    "data.set_index(\"result\", inplace=True)"
   ]
  },
  {
   "cell_type": "code",
   "execution_count": 4,
   "id": "1f209097-b2a2-46fe-ad82-6ceb47254589",
   "metadata": {},
   "outputs": [
    {
     "data": {
      "text/html": [
       "<div>\n",
       "<style scoped>\n",
       "    .dataframe tbody tr th:only-of-type {\n",
       "        vertical-align: middle;\n",
       "    }\n",
       "\n",
       "    .dataframe tbody tr th {\n",
       "        vertical-align: top;\n",
       "    }\n",
       "\n",
       "    .dataframe thead th {\n",
       "        text-align: right;\n",
       "    }\n",
       "</style>\n",
       "<table border=\"1\" class=\"dataframe\">\n",
       "  <thead>\n",
       "    <tr style=\"text-align: right;\">\n",
       "      <th></th>\n",
       "      <th>A</th>\n",
       "      <th>B</th>\n",
       "      <th>C</th>\n",
       "    </tr>\n",
       "    <tr>\n",
       "      <th>result</th>\n",
       "      <th></th>\n",
       "      <th></th>\n",
       "      <th></th>\n",
       "    </tr>\n",
       "  </thead>\n",
       "  <tbody>\n",
       "    <tr>\n",
       "      <th>Click</th>\n",
       "      <td>14</td>\n",
       "      <td>8</td>\n",
       "      <td>12</td>\n",
       "    </tr>\n",
       "    <tr>\n",
       "      <th>No click</th>\n",
       "      <td>986</td>\n",
       "      <td>992</td>\n",
       "      <td>988</td>\n",
       "    </tr>\n",
       "  </tbody>\n",
       "</table>\n",
       "</div>"
      ],
      "text/plain": [
       "            A    B    C\n",
       "result                 \n",
       "Click      14    8   12\n",
       "No click  986  992  988"
      ]
     },
     "execution_count": 4,
     "metadata": {},
     "output_type": "execute_result"
    }
   ],
   "source": [
    "data"
   ]
  },
  {
   "cell_type": "markdown",
   "id": "c3ebcd06-5322-42c2-95d4-ccb9f87be1b6",
   "metadata": {},
   "source": [
    "# A resampling approach"
   ]
  },
  {
   "cell_type": "code",
   "execution_count": 5,
   "id": "0d2e7ef3-c2f3-43e7-a36c-49f646c459a7",
   "metadata": {},
   "outputs": [],
   "source": [
    "box = [1] * 34 \n",
    "box.extend([0] * 2966) \n",
    "random.shuffle(box)"
   ]
  },
  {
   "cell_type": "code",
   "execution_count": 6,
   "id": "edbdd44e-7ac4-449b-8089-8048f9b3c255",
   "metadata": {},
   "outputs": [],
   "source": [
    "def chi2(observed, expected): \n",
    "    pearson_residuals = [] \n",
    "    for row, expect in zip(observed, expected): \n",
    "        pearson_residuals.append([(observe - expect) ** 2 / expect for observe in row])\n",
    "    # return sum of squares \n",
    "    return np.sum(pearson_residuals)"
   ]
  },
  {
   "cell_type": "code",
   "execution_count": 7,
   "id": "6a68090c-3dd2-4f94-a114-e9896759f616",
   "metadata": {},
   "outputs": [
    {
     "data": {
      "text/plain": [
       "array([[ 14,   8,  12],\n",
       "       [986, 992, 988]], dtype=int64)"
      ]
     },
     "execution_count": 7,
     "metadata": {},
     "output_type": "execute_result"
    }
   ],
   "source": [
    "data.values"
   ]
  },
  {
   "cell_type": "code",
   "execution_count": 8,
   "id": "ffeb317d-61bd-4099-93b3-9702dde9e6dd",
   "metadata": {},
   "outputs": [],
   "source": [
    "expected_clicks = 34 / 3 \n",
    "expected_noclicks = 1000 - expected_clicks \n",
    "expected = [34 / 3, 1000 - 34 / 3] \n",
    "\n",
    "chi2observed = chi2(data.values, expected)"
   ]
  },
  {
   "cell_type": "code",
   "execution_count": 9,
   "id": "960cfb6a-94fd-420d-8894-e1497a713e43",
   "metadata": {},
   "outputs": [
    {
     "data": {
      "text/plain": [
       "1.6659394708658917"
      ]
     },
     "execution_count": 9,
     "metadata": {},
     "output_type": "execute_result"
    }
   ],
   "source": [
    "chi2observed"
   ]
  },
  {
   "cell_type": "code",
   "execution_count": 10,
   "id": "7d7f6a93-77fd-4939-8e1c-4ddacbd0d2b8",
   "metadata": {},
   "outputs": [],
   "source": [
    "def perm_fun(box): \n",
    "    sample_clicks = [sum(random.sample(box, 1000)),  # A\n",
    "                     sum(random.sample(box, 1000)),  # B\n",
    "                     sum(random.sample(box, 1000))]  # C\n",
    "    sample_noclicks = [1000 - n for n in sample_clicks] \n",
    "    return chi2([sample_clicks, sample_noclicks], expected)"
   ]
  },
  {
   "cell_type": "code",
   "execution_count": 11,
   "id": "56d65e79-7d9c-4e81-be5a-f3ba93ce9894",
   "metadata": {},
   "outputs": [
    {
     "name": "stdout",
     "output_type": "stream",
     "text": [
      "Observed chi2: 1.6659\n",
      "Resampled p-value: 0.4875\n"
     ]
    }
   ],
   "source": [
    "perm_chi2 = [perm_fun(box) for _ in range(2000)] \n",
    "resampled_p_value = sum(perm_chi2 > chi2observed) / len(perm_chi2) \n",
    "print(f'Observed chi2: {chi2observed:.4f}') \n",
    "print(f'Resampled p-value: {resampled_p_value:.4f}')"
   ]
  },
  {
   "cell_type": "markdown",
   "id": "6e7e0240-b3c8-4bd8-8622-f393d66bdd72",
   "metadata": {},
   "source": [
    "How often does the resampled sum of squared deviations exceed the observed? That’s the p-value"
   ]
  },
  {
   "cell_type": "code",
   "execution_count": 13,
   "id": "0efb609f-a709-4374-8eeb-4062890a8552",
   "metadata": {},
   "outputs": [
    {
     "data": {
      "image/png": "[encoded data removed]",
      "text/plain": [
       "<Figure size 432x288 with 1 Axes>"
      ]
     },
     "metadata": {
      "needs_background": "light"
     },
     "output_type": "display_data"
    }
   ],
   "source": [
    "plt.hist(perm_chi2, bins=30,rwidth=0.9, density=True)\n",
    "plt.axvline(x=chi2observed, color='red', lw=3)\n",
    "plt.xlabel(\"chi-squared\")\n",
    "plt.ylabel(\"frequency\")\n",
    "plt.title(\"Chi-squared from resample\")\n",
    "plt.show()"
   ]
  },
  {
   "cell_type": "markdown",
   "id": "e631a96e-25a1-46a6-a679-c95fe0e51b6d",
   "metadata": {},
   "source": [
    "$48.2\\%$ of the time, the chi-squeared from resample exceed the chi-squared from resample."
   ]
  },
  {
   "cell_type": "markdown",
   "id": "c364ec86-bcca-4a71-9b2e-38ff142993aa",
   "metadata": {
    "tags": []
   },
   "source": [
    "# Statistical Theory"
   ]
  },
  {
   "cell_type": "code",
   "execution_count": 16,
   "id": "24316d87-d68a-4e5c-9210-761bb7e9e5b1",
   "metadata": {},
   "outputs": [],
   "source": [
    "from scipy.stats import chi2_contingency"
   ]
  },
  {
   "cell_type": "code",
   "execution_count": 18,
   "id": "4851c98c-45d5-4b69-a39c-67a671489313",
   "metadata": {},
   "outputs": [],
   "source": [
    "chisq, pvalue, df, expected = chi2_contingency(data)"
   ]
  },
  {
   "cell_type": "code",
   "execution_count": 19,
   "id": "80764c7a-fe9d-435f-8164-4ef8b7c621f6",
   "metadata": {},
   "outputs": [
    {
     "name": "stdout",
     "output_type": "stream",
     "text": [
      "Observed chi2: 1.6659\n",
      "p-value: 0.4348\n"
     ]
    }
   ],
   "source": [
    "print(f'Observed chi2: {chi2observed:.4f}') \n",
    "print(f'p-value: {pvalue:.4f}')"
   ]
  }
 ],
 "metadata": {
  "kernelspec": {
   "display_name": "Python 3 (ipykernel)",
   "language": "python",
   "name": "python3"
  },
  "language_info": {
   "codemirror_mode": {
    "name": "ipython",
    "version": 3
   },
   "file_extension": ".py",
   "mimetype": "text/x-python",
   "name": "python",
   "nbconvert_exporter": "python",
   "pygments_lexer": "ipython3",
   "version": "3.9.12"
  }
 },
 "nbformat": 4,
 "nbformat_minor": 5
}
