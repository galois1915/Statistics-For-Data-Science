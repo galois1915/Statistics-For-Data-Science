{
 "cells": [
  {
   "cell_type": "markdown",
   "id": "ede2847d-1fad-4330-ba0f-5605dfa901f8",
   "metadata": {},
   "source": [
    "# Hypothesis Testing"
   ]
  },
  {
   "cell_type": "markdown",
   "id": "9a0354a7-053b-4fd0-8d97-5e48fdd84c6b",
   "metadata": {},
   "source": [
    "## A/B testing"
   ]
  },
  {
   "cell_type": "markdown",
   "id": "3f0daa5e-c3f2-4152-adac-09896605f5fb",
   "metadata": {},
   "source": [
    "## Hypothesis tests"
   ]
  },
  {
   "cell_type": "markdown",
   "id": "13b4e265-2f8f-4b66-89e2-a41fcdd80873",
   "metadata": {},
   "source": [
    "## p-values"
   ]
  },
  {
   "cell_type": "markdown",
   "id": "1e086f36-cb50-4345-b5f0-0785971606d0",
   "metadata": {},
   "source": [
    "## t-tests"
   ]
  },
  {
   "cell_type": "markdown",
   "id": "ad9656b7-c77b-4dfc-9552-544aac426465",
   "metadata": {},
   "source": [
    "## ANOVA"
   ]
  },
  {
   "cell_type": "markdown",
   "id": "5a150ee0-64e0-4869-bead-b3ef48da23c6",
   "metadata": {},
   "source": [
    "## Chi-Square test"
   ]
  }
 ],
 "metadata": {
  "kernelspec": {
   "display_name": "R",
   "language": "R",
   "name": "ir"
  },
  "language_info": {
   "codemirror_mode": "r",
   "file_extension": ".r",
   "mimetype": "text/x-r-source",
   "name": "R",
   "pygments_lexer": "r",
   "version": "4.3.1"
  }
 },
 "nbformat": 4,
 "nbformat_minor": 5
}
