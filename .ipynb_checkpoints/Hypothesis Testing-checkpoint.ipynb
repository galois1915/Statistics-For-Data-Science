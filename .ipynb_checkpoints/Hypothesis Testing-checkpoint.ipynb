{
 "cells": [
  {
   "cell_type": "markdown",
   "id": "ede2847d-1fad-4330-ba0f-5605dfa901f8",
   "metadata": {},
   "source": [
    "# Hypothesis Testing"
   ]
  },
  {
   "cell_type": "markdown",
   "id": "9a0354a7-053b-4fd0-8d97-5e48fdd84c6b",
   "metadata": {
    "jp-MarkdownHeadingCollapsed": true
   },
   "source": [
    "Design of experiments is a cornerstone of the practice of statistical, with applications in virtually all areas of research. The goal is to design an experiment in order to confirm or reject a hypothesis.\n",
    "\n",
    "### A/B testing\n",
    "Is an experiment with two groups to establish which of two *treatments*, products, procedures, or the like is superior. Often one of the two tretments is the *standard existing treatment* (control), or no treatment. A tipycal hypothesis is that a *new treatment is better than the control*.\n",
    "\n",
    "You know that any difference between the treatment groups is due to one two things:\n",
    "* The effect of the different treatments\n",
    "* Luck of the draw in which subject are assigned to which treatments.\n",
    "\n",
    "Note: Why have a control group? Why just A/B? Why not C,D,...?\n",
    "\n",
    "### Hypothesis test\n",
    "Hypothesis tests (significance test): Their purpose is to help you learn whether *random chance* might be responsible for an observed effect and is futher analysis of an A/B test, or any randomized experiment. Statistical hypothesis testing was invented as a way to protect researchs from being fooled by random chance.\n",
    "\n",
    "* **Null hypothesis**: Any difference between the groups is due chance.\n",
    "\n",
    "Oru hope, is that we can in fact prove the null hypothesis is wrong and show that the output comes for groups A and B are *more different than what chance might produce*.\n",
    "\n",
    "**Proof by contradiction:** If the null hypothesis is true, then A and B are similar. Therefore, when we apply *resampling methods* to the joint groups A and B and form two groups similar to A and B, there should not be a significant difference between them. Otherwise, the null hypothesis is incorrect. The question then arises: *how big must the difference be?*\n",
    "\n",
    "### Resampling\n",
    "*Resampling* in statistics means to repeatedly sample values from observed data, with a general goal of assessing random variability in a statistic. The are two main types:\n",
    "* **bootstrap test**: used to assess the reliability of an estimate. \n",
    "* **permutation test**: used to test hypotheses. The procedure is: combine the result -> randonmly draw(without replacement) to collect one set of resamlpes that mirror the sizes of the original samples -> calculated the *statistic or estimate* on it -> record (one permutation) -> build the distribution of the test statistic.\n",
    "\n",
    "There are two variants of the poermutation test: *exhaustive permutation test* (exact test) which instead of just randomly shuffing and dividing the data, we actually figure aout all the possible ways it could be divided; *bootstrap èrmutation test* which used replacement instead of without replacement.\n",
    "\n",
    "### Statistical significance\n",
    "*Statistical significance* is how statisticians masure whether an experiment (or even a study of existing data) yield a result more extreme than what change might produce. If the result is beyod the realm of change variation, it is said to be statistically significant.\n",
    "\n",
    "Simply looking at the graph is not very precise way to measure statistical significance, so of more interest is the *p-value*.\n",
    "* **p-value**: The p-value, or probability value, is a measure used in statistics to assess the evidence against a null hypothesis. This is the frequency with which the change model produce a result more extreme than the observed result. It represents the probability of observing the data or more extreme results if the null *hypothesis is true*.\n",
    "\n",
    "1. A small p-value (typically less than 0.05) suggests that the observed data is unlikely to have occurred if the null hypothesis is true. In such cases, researchers may reject the null hypothesis in favor of the alternative hypothesis.\n",
    "2. A large p-value (greater than 0.05) indicates that the observed data is not very unusual under the assumption of the null hypothesis. In this case, researchers may not have enough evidence to reject the null hypothesis.\n",
    "\n",
    "### t-test\n",
    "### Multiple testing\n",
    "### Degree of Freedom\n",
    "### ANOVA\n",
    "### Chi-Square test"
   ]
  },
  {
   "cell_type": "markdown",
   "id": "cbe71a7a-15dc-445b-aad6-485a034d4c17",
   "metadata": {
    "jp-MarkdownHeadingCollapsed": true
   },
   "source": [
    "## Data for examples"
   ]
  },
  {
   "cell_type": "code",
   "execution_count": 163,
   "id": "dc2203b7-556a-4672-b92d-dfcd219e2778",
   "metadata": {},
   "outputs": [
    {
     "data": {
      "text/html": [
       "'/home/angel/Documents/galois1915/Statistical-experiments-and-Significance-testing'"
      ],
      "text/latex": [
       "'/home/angel/Documents/galois1915/Statistical-experiments-and-Significance-testing'"
      ],
      "text/markdown": [
       "'/home/angel/Documents/galois1915/Statistical-experiments-and-Significance-testing'"
      ],
      "text/plain": [
       "[1] \"/home/angel/Documents/galois1915/Statistical-experiments-and-Significance-testing\""
      ]
     },
     "metadata": {},
     "output_type": "display_data"
    }
   ],
   "source": [
    "getwd()"
   ]
  },
  {
   "cell_type": "code",
   "execution_count": 164,
   "id": "ce0b61e6-3a97-4afe-bc34-3edab1d9855d",
   "metadata": {},
   "outputs": [],
   "source": [
    "data <- read.csv(\"data/UShealthInsurance/insurance.csv\")"
   ]
  },
  {
   "cell_type": "markdown",
   "id": "1e9fa30b-4536-4454-9550-2d50d44a0b3c",
   "metadata": {},
   "source": [
    "* **mbi** Body mass index, providing an understanding of body, weights that are relatively high or low relative to\n",
    "* **sex** Insurance contractor gender, female / male\n",
    "* **charges** Individual medical costs billed by health insurance."
   ]
  },
  {
   "cell_type": "code",
   "execution_count": 165,
   "id": "2fc1fa99-130c-45ce-bb93-43cbef496e97",
   "metadata": {},
   "outputs": [
    {
     "data": {
      "text/html": [
       "<table class=\"dataframe\">\n",
       "<caption>A data.frame: 3 × 7</caption>\n",
       "<thead>\n",
       "\t<tr><th></th><th scope=col>age</th><th scope=col>sex</th><th scope=col>bmi</th><th scope=col>children</th><th scope=col>smoker</th><th scope=col>region</th><th scope=col>charges</th></tr>\n",
       "\t<tr><th></th><th scope=col>&lt;int&gt;</th><th scope=col>&lt;chr&gt;</th><th scope=col>&lt;dbl&gt;</th><th scope=col>&lt;int&gt;</th><th scope=col>&lt;chr&gt;</th><th scope=col>&lt;chr&gt;</th><th scope=col>&lt;dbl&gt;</th></tr>\n",
       "</thead>\n",
       "<tbody>\n",
       "\t<tr><th scope=row>1</th><td>19</td><td>female</td><td>27.90</td><td>0</td><td>yes</td><td>southwest</td><td>16884.924</td></tr>\n",
       "\t<tr><th scope=row>2</th><td>18</td><td>male  </td><td>33.77</td><td>1</td><td>no </td><td>southeast</td><td> 1725.552</td></tr>\n",
       "\t<tr><th scope=row>3</th><td>28</td><td>male  </td><td>33.00</td><td>3</td><td>no </td><td>southeast</td><td> 4449.462</td></tr>\n",
       "</tbody>\n",
       "</table>\n"
      ],
      "text/latex": [
       "A data.frame: 3 × 7\n",
       "\\begin{tabular}{r|lllllll}\n",
       "  & age & sex & bmi & children & smoker & region & charges\\\\\n",
       "  & <int> & <chr> & <dbl> & <int> & <chr> & <chr> & <dbl>\\\\\n",
       "\\hline\n",
       "\t1 & 19 & female & 27.90 & 0 & yes & southwest & 16884.924\\\\\n",
       "\t2 & 18 & male   & 33.77 & 1 & no  & southeast &  1725.552\\\\\n",
       "\t3 & 28 & male   & 33.00 & 3 & no  & southeast &  4449.462\\\\\n",
       "\\end{tabular}\n"
      ],
      "text/markdown": [
       "\n",
       "A data.frame: 3 × 7\n",
       "\n",
       "| <!--/--> | age &lt;int&gt; | sex &lt;chr&gt; | bmi &lt;dbl&gt; | children &lt;int&gt; | smoker &lt;chr&gt; | region &lt;chr&gt; | charges &lt;dbl&gt; |\n",
       "|---|---|---|---|---|---|---|---|\n",
       "| 1 | 19 | female | 27.90 | 0 | yes | southwest | 16884.924 |\n",
       "| 2 | 18 | male   | 33.77 | 1 | no  | southeast |  1725.552 |\n",
       "| 3 | 28 | male   | 33.00 | 3 | no  | southeast |  4449.462 |\n",
       "\n"
      ],
      "text/plain": [
       "  age sex    bmi   children smoker region    charges  \n",
       "1 19  female 27.90 0        yes    southwest 16884.924\n",
       "2 18  male   33.77 1        no     southeast  1725.552\n",
       "3 28  male   33.00 3        no     southeast  4449.462"
      ]
     },
     "metadata": {},
     "output_type": "display_data"
    }
   ],
   "source": [
    "head(data,n=3)"
   ]
  },
  {
   "cell_type": "code",
   "execution_count": 187,
   "id": "c071066d-2596-4c3a-9709-0d3b280d19a0",
   "metadata": {},
   "outputs": [],
   "source": [
    "# funtion to permutations\n",
    "perm_func <- function(nA,nB)\n",
    "    {\n",
    "    n <- nA+nB\n",
    "    idx_a <- sample(1:n, nA)\n",
    "    idx_b <- setdiff(1:n, idx_a)\n",
    "    #mean_diff <- mean(x[idx_b])-mean(x[idx_a])\n",
    "    return (list(a=idx_a, b=idx_b))\n",
    "    }"
   ]
  },
  {
   "cell_type": "code",
   "execution_count": 167,
   "id": "6d46c5d6-b0b5-45e0-bb22-a336f3d466fb",
   "metadata": {},
   "outputs": [],
   "source": [
    "library(ggplot2)"
   ]
  },
  {
   "cell_type": "markdown",
   "id": "d2123844-d37d-43a9-ad4a-21fb8985460d",
   "metadata": {
    "jp-MarkdownHeadingCollapsed": true
   },
   "source": [
    "## Example: Are the bmi in smokers higher than in non-smokers?"
   ]
  },
  {
   "cell_type": "markdown",
   "id": "5b541975-f0f7-4b99-ab62-c10937e9e7fa",
   "metadata": {},
   "source": [
    "* **Null hypothesis**: there aren't difference between them. Their means are similar."
   ]
  },
  {
   "cell_type": "code",
   "execution_count": 188,
   "id": "a17ea0b3-9aae-4bc2-8db6-49cf1648be25",
   "metadata": {},
   "outputs": [],
   "source": [
    "column <- \"bmi\""
   ]
  },
  {
   "cell_type": "code",
   "execution_count": 189,
   "id": "e1564895-2958-4c72-8fbc-d26de989bcc0",
   "metadata": {},
   "outputs": [
    {
     "data": {
      "image/png": "[encoded data removed]",
      "text/plain": [
       "plot without title"
      ]
     },
     "metadata": {
      "image/png": {
       "height": 420,
       "width": 420
      }
     },
     "output_type": "display_data"
    }
   ],
   "source": [
    "ggplot(data, aes(x=smoker, y=bmi)) + geom_boxplot()"
   ]
  },
  {
   "cell_type": "code",
   "execution_count": 190,
   "id": "e91ece98-559b-449a-9a1a-20ae510f60ba",
   "metadata": {},
   "outputs": [
    {
     "name": "stdout",
     "output_type": "stream",
     "text": [
      "[1] 30.70845\n",
      "[1] 30.6518\n"
     ]
    },
    {
     "data": {
      "text/plain": [
       "\n",
       "  no  yes \n",
       "1064  274 "
      ]
     },
     "metadata": {},
     "output_type": "display_data"
    }
   ],
   "source": [
    "mean_a = mean(data[data[\"smoker\"]==\"yes\",column])\n",
    "print(mean_a)\n",
    "mean_b = mean(data[data[\"smoker\"]==\"no\",column])\n",
    "print(mean_b)\n",
    "table(data$smoker)"
   ]
  },
  {
   "cell_type": "code",
   "execution_count": 193,
   "id": "37e76243-90c3-4152-8c0e-cdffe144ef47",
   "metadata": {},
   "outputs": [],
   "source": [
    "estimate <- rep(0,1000)\n",
    "for (i in 1:1000){\n",
    "    index <- perm_func(1064, 274)\n",
    "    estimate[i] <- mean(data[index$a,column]) - mean(data[index$b,column])\n",
    "}"
   ]
  },
  {
   "cell_type": "code",
   "execution_count": 194,
   "id": "87435402-a5ad-4773-8bb2-da6c17ee9c5d",
   "metadata": {},
   "outputs": [
    {
     "data": {
      "image/png": "[encoded data removed]",
      "text/plain": [
       "Plot with title “Histogram of estimate”"
      ]
     },
     "metadata": {
      "image/png": {
       "height": 420,
       "width": 420
      }
     },
     "output_type": "display_data"
    }
   ],
   "source": [
    "hist(estimate, xlab=column)\n",
    "abline(v=mean_a-mean_b)"
   ]
  },
  {
   "cell_type": "code",
   "execution_count": 195,
   "id": "45b0404f-bb97-4d03-bd11-c9ee684b7c4c",
   "metadata": {},
   "outputs": [],
   "source": [
    "p_value <- mean( estimate > (mean_a-mean_b) )"
   ]
  },
  {
   "cell_type": "code",
   "execution_count": 196,
   "id": "dcef0ad6-a9a1-47c9-8d16-27ca955bb185",
   "metadata": {},
   "outputs": [
    {
     "data": {
      "text/html": [
       "0.471"
      ],
      "text/latex": [
       "0.471"
      ],
      "text/markdown": [
       "0.471"
      ],
      "text/plain": [
       "[1] 0.471"
      ]
     },
     "metadata": {},
     "output_type": "display_data"
    }
   ],
   "source": [
    "p_value"
   ]
  },
  {
   "cell_type": "markdown",
   "id": "2711ea53-a4d0-4571-8b37-190cb35a2b71",
   "metadata": {},
   "source": [
    "We would expect to achieve a result as extreme as this, or more extreme result, by random chance over $\\%40$ of the time. The observed data is not very unusual under the assumption of the null hypothesis"
   ]
  },
  {
   "cell_type": "markdown",
   "id": "7ee04f57-6399-46b1-b013-d7de8172f669",
   "metadata": {
    "jp-MarkdownHeadingCollapsed": true
   },
   "source": [
    "## Example: Are men more likely to smoke?"
   ]
  },
  {
   "cell_type": "markdown",
   "id": "d280fa0c-6276-427d-907c-05cccccf1d12",
   "metadata": {},
   "source": [
    "* **Null Hypothesis**: rate of male in each group is the same."
   ]
  },
  {
   "cell_type": "code",
   "execution_count": 183,
   "id": "9aac26bc-2654-40ac-a228-5c2b9980c783",
   "metadata": {},
   "outputs": [
    {
     "data": {
      "text/plain": [
       "\n",
       "female   male \n",
       "   115    159 "
      ]
     },
     "metadata": {},
     "output_type": "display_data"
    }
   ],
   "source": [
    "table(data[data$smoker==\"yes\",\"sex\"]) # rate of male in smoker"
   ]
  },
  {
   "cell_type": "code",
   "execution_count": 199,
   "id": "6bfae740-5403-4bd1-852a-4aca9f1ee53f",
   "metadata": {},
   "outputs": [
    {
     "data": {
      "text/html": [
       "0.58029197080292"
      ],
      "text/latex": [
       "0.58029197080292"
      ],
      "text/markdown": [
       "0.58029197080292"
      ],
      "text/plain": [
       "[1] 0.580292"
      ]
     },
     "metadata": {},
     "output_type": "display_data"
    }
   ],
   "source": [
    "mean_s <- 159/(115+159)\n",
    "mean_s"
   ]
  },
  {
   "cell_type": "code",
   "execution_count": 184,
   "id": "041414a1-a2aa-4081-aff4-5eda33a7be2c",
   "metadata": {},
   "outputs": [
    {
     "data": {
      "text/plain": [
       "\n",
       "female   male \n",
       "   547    517 "
      ]
     },
     "metadata": {},
     "output_type": "display_data"
    }
   ],
   "source": [
    "table(data[data$smoker==\"no\",\"sex\"]) # rate of male in no smoker"
   ]
  },
  {
   "cell_type": "code",
   "execution_count": 200,
   "id": "6dd01864-912f-4db6-bcd0-c0c4c54a45e9",
   "metadata": {},
   "outputs": [
    {
     "data": {
      "text/html": [
       "0.485902255639098"
      ],
      "text/latex": [
       "0.485902255639098"
      ],
      "text/markdown": [
       "0.485902255639098"
      ],
      "text/plain": [
       "[1] 0.4859023"
      ]
     },
     "metadata": {},
     "output_type": "display_data"
    }
   ],
   "source": [
    "mean_n <- 517/(517+547)\n",
    "mean_n"
   ]
  },
  {
   "cell_type": "code",
   "execution_count": 197,
   "id": "658dd1fd-4965-4c57-8c08-3d3a3668a1dd",
   "metadata": {},
   "outputs": [],
   "source": [
    "estimate <- rep(0,1000)\n",
    "for (i in 1:1000){\n",
    "    index <- perm_func(115+159, 547+517) # smoker, no smoker\n",
    "    estimate[i] <- mean(data[index$a,\"sex\"]==\"male\") - mean(data[index$b,\"sex\"]==\"male\")\n",
    "}"
   ]
  },
  {
   "cell_type": "code",
   "execution_count": 201,
   "id": "237995d4-8fca-48ae-a835-d63f73296e89",
   "metadata": {},
   "outputs": [
    {
     "data": {
      "image/png": "[encoded data removed]",
      "text/plain": [
       "Plot with title “Histogram of estimate”"
      ]
     },
     "metadata": {
      "image/png": {
       "height": 420,
       "width": 420
      }
     },
     "output_type": "display_data"
    }
   ],
   "source": [
    "hist(estimate)\n",
    "abline(v=mean_s-mean_n)"
   ]
  },
  {
   "cell_type": "code",
   "execution_count": 202,
   "id": "d3e33065-8459-43a7-ae56-8090c9a10288",
   "metadata": {},
   "outputs": [
    {
     "data": {
      "text/html": [
       "0.002"
      ],
      "text/latex": [
       "0.002"
      ],
      "text/markdown": [
       "0.002"
      ],
      "text/plain": [
       "[1] 0.002"
      ]
     },
     "metadata": {},
     "output_type": "display_data"
    }
   ],
   "source": [
    "p_value <- mean( estimate > (mean_s-mean_n))\n",
    "p_value"
   ]
  },
  {
   "cell_type": "markdown",
   "id": "93a0d96f-c52e-4abb-9adc-cd90fa0c3026",
   "metadata": {},
   "source": [
    "\"If we assume that there is no difference between them, the observed data is unusual; we would observe that the difference in the proportion of men in both smokers and non-smokers groups, respectively, is equal to or greater than the observed difference in means only 0.2% of the time.\"\n",
    "\n",
    "You might have evidence to reject the null hypothesis."
   ]
  },
  {
   "cell_type": "markdown",
   "id": "85cd4b7b-4739-4e98-b821-6ee8202b3096",
   "metadata": {},
   "source": [
    "Since we have a binomial distribution, we can approximate the p-value with:"
   ]
  },
  {
   "cell_type": "code",
   "execution_count": 203,
   "id": "89713ad2-236f-4c70-a24d-6492e2ac47b5",
   "metadata": {},
   "outputs": [
    {
     "data": {
      "text/plain": [
       "\n",
       "\t2-sample test for equality of proportions with continuity correction\n",
       "\n",
       "data:  c(159, 517) out of c(115 + 159, 517 + 547)\n",
       "X-squared = 7.3929, df = 1, p-value = 0.006548\n",
       "alternative hypothesis: two.sided\n",
       "95 percent confidence interval:\n",
       " 0.02639507 0.16238437\n",
       "sample estimates:\n",
       "   prop 1    prop 2 \n",
       "0.5802920 0.4859023 \n"
      ]
     },
     "metadata": {},
     "output_type": "display_data"
    }
   ],
   "source": [
    "prop.test( x=c(159,517), n=c(115+159, 517+547) )"
   ]
  },
  {
   "cell_type": "markdown",
   "id": "eaf44d61-a956-4623-a862-2fabff1e4921",
   "metadata": {},
   "source": [
    "is close value to p-value obteined from the permutation test."
   ]
  },
  {
   "cell_type": "markdown",
   "id": "503e04c7-643f-4e66-bd50-ba07fbc178d7",
   "metadata": {},
   "source": [
    "**Note**: Is possible use the <code>pro.test</code> function in the first example?"
   ]
  }
 ],
 "metadata": {
  "kernelspec": {
   "display_name": "R",
   "language": "R",
   "name": "ir"
  },
  "language_info": {
   "codemirror_mode": "r",
   "file_extension": ".r",
   "mimetype": "text/x-r-source",
   "name": "R",
   "pygments_lexer": "r",
   "version": "4.3.1"
  }
 },
 "nbformat": 4,
 "nbformat_minor": 5
}
