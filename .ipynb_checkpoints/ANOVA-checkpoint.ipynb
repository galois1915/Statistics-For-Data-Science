{
 "cells": [
  {
   "cell_type": "markdown",
   "id": "20e103a6-7b6a-417c-9735-163753ca819f",
   "metadata": {},
   "source": [
    "# Libraries"
   ]
  },
  {
   "cell_type": "code",
   "execution_count": 1,
   "id": "0ee8136a-3311-4d96-ad61-8ac9609cc632",
   "metadata": {},
   "outputs": [],
   "source": [
    "import numpy as np\n",
    "import matplotlib.pyplot as plt\n",
    "import os\n",
    "import pandas as pd\n",
    "import scipy as sp"
   ]
  },
  {
   "cell_type": "code",
   "execution_count": 2,
   "id": "75e4418a-f825-4301-a9db-2fedbcacc053",
   "metadata": {},
   "outputs": [],
   "source": [
    "import seaborn as sns\n",
    "from zipfile import ZipFile"
   ]
  },
  {
   "cell_type": "markdown",
   "id": "bd4a414a-220d-4b3e-92f4-0ef3f0711a9a",
   "metadata": {},
   "source": [
    "# Data"
   ]
  },
  {
   "cell_type": "code",
   "execution_count": 3,
   "id": "5e7712db-52ca-45b7-9403-e59c230f1829",
   "metadata": {},
   "outputs": [
    {
     "data": {
      "text/plain": [
       "'G:\\\\My Drive\\\\JOBI\\\\Data_science\\\\PUBLICADO\\\\Statistical_Experiments_and_Significance_Testing'"
      ]
     },
     "execution_count": 3,
     "metadata": {},
     "output_type": "execute_result"
    }
   ],
   "source": [
    "os.getcwd()"
   ]
  },
  {
   "cell_type": "code",
   "execution_count": 4,
   "id": "23861dd6-5b53-4652-9a62-de0dadabc5a5",
   "metadata": {},
   "outputs": [
    {
     "data": {
      "text/plain": [
       "['DATA_LAB', 'ab_data.zip', 'diet_anova.zip']"
      ]
     },
     "execution_count": 4,
     "metadata": {},
     "output_type": "execute_result"
    }
   ],
   "source": [
    "os.listdir(\"../../DATA_SET/\")"
   ]
  },
  {
   "cell_type": "code",
   "execution_count": 5,
   "id": "8c7267bb-3d53-4104-b253-8dd37a209d68",
   "metadata": {},
   "outputs": [],
   "source": [
    "path = \"../../DATA_SET/diet_anova.zip\""
   ]
  },
  {
   "cell_type": "code",
   "execution_count": 7,
   "id": "90bacd3a-8722-4314-a9b8-6ba3bfa0551e",
   "metadata": {},
   "outputs": [
    {
     "name": "stdout",
     "output_type": "stream",
     "text": [
      "File Name                                             Modified             Size\n",
      "Diet.xlsx                                      2020-09-16 09:00:22        10077\n"
     ]
    }
   ],
   "source": [
    "with ZipFile(path, \"r\") as zip:\n",
    "    zip.printdir()\n",
    "    with zip.open(\"Diet.xlsx\") as f:\n",
    "        data = pd.read_excel(f)"
   ]
  },
  {
   "cell_type": "code",
   "execution_count": 8,
   "id": "eb6b8ff1-2273-4f23-a8c6-e8e3c924da85",
   "metadata": {},
   "outputs": [
    {
     "data": {
      "text/html": [
       "<div>\n",
       "<style scoped>\n",
       "    .dataframe tbody tr th:only-of-type {\n",
       "        vertical-align: middle;\n",
       "    }\n",
       "\n",
       "    .dataframe tbody tr th {\n",
       "        vertical-align: top;\n",
       "    }\n",
       "\n",
       "    .dataframe thead th {\n",
       "        text-align: right;\n",
       "    }\n",
       "</style>\n",
       "<table border=\"1\" class=\"dataframe\">\n",
       "  <thead>\n",
       "    <tr style=\"text-align: right;\">\n",
       "      <th></th>\n",
       "      <th>gender</th>\n",
       "      <th>Diet</th>\n",
       "      <th>weight</th>\n",
       "      <th>weight6weeks</th>\n",
       "    </tr>\n",
       "  </thead>\n",
       "  <tbody>\n",
       "    <tr>\n",
       "      <th>0</th>\n",
       "      <td>M</td>\n",
       "      <td>B</td>\n",
       "      <td>60</td>\n",
       "      <td>60.0</td>\n",
       "    </tr>\n",
       "    <tr>\n",
       "      <th>1</th>\n",
       "      <td>M</td>\n",
       "      <td>B</td>\n",
       "      <td>103</td>\n",
       "      <td>103.0</td>\n",
       "    </tr>\n",
       "    <tr>\n",
       "      <th>2</th>\n",
       "      <td>F</td>\n",
       "      <td>A</td>\n",
       "      <td>58</td>\n",
       "      <td>54.2</td>\n",
       "    </tr>\n",
       "    <tr>\n",
       "      <th>3</th>\n",
       "      <td>F</td>\n",
       "      <td>A</td>\n",
       "      <td>60</td>\n",
       "      <td>54.0</td>\n",
       "    </tr>\n",
       "    <tr>\n",
       "      <th>4</th>\n",
       "      <td>F</td>\n",
       "      <td>A</td>\n",
       "      <td>64</td>\n",
       "      <td>63.3</td>\n",
       "    </tr>\n",
       "  </tbody>\n",
       "</table>\n",
       "</div>"
      ],
      "text/plain": [
       "  gender Diet  weight  weight6weeks\n",
       "0      M    B      60          60.0\n",
       "1      M    B     103         103.0\n",
       "2      F    A      58          54.2\n",
       "3      F    A      60          54.0\n",
       "4      F    A      64          63.3"
      ]
     },
     "execution_count": 8,
     "metadata": {},
     "output_type": "execute_result"
    }
   ],
   "source": [
    "data.head()"
   ]
  },
  {
   "cell_type": "code",
   "execution_count": 10,
   "id": "81790f9f-2ece-4431-9faa-561f7292f99a",
   "metadata": {},
   "outputs": [
    {
     "name": "stdout",
     "output_type": "stream",
     "text": [
      "<class 'pandas.core.frame.DataFrame'>\n",
      "RangeIndex: 78 entries, 0 to 77\n",
      "Data columns (total 4 columns):\n",
      " #   Column        Non-Null Count  Dtype  \n",
      "---  ------        --------------  -----  \n",
      " 0   gender        78 non-null     object \n",
      " 1   Diet          78 non-null     object \n",
      " 2   weight        78 non-null     int64  \n",
      " 3   weight6weeks  78 non-null     float64\n",
      "dtypes: float64(1), int64(1), object(2)\n",
      "memory usage: 2.6+ KB\n"
     ]
    }
   ],
   "source": [
    "data.info()"
   ]
  },
  {
   "cell_type": "markdown",
   "id": "9fe31c75-a0f0-459c-970f-a5f51ab5c610",
   "metadata": {},
   "source": [
    "# Boxplot"
   ]
  },
  {
   "cell_type": "code",
   "execution_count": 9,
   "id": "c5ace23f-c52e-40d2-8521-f1f7b089f18a",
   "metadata": {},
   "outputs": [
    {
     "data": {
      "image/png": "[encoded data removed]",
      "text/plain": [
       "<Figure size 432x288 with 1 Axes>"
      ]
     },
     "metadata": {
      "needs_background": "light"
     },
     "output_type": "display_data"
    }
   ],
   "source": [
    "sns.boxplot(x=\"Diet\", y=\"weight6weeks\", data=data)\n",
    "plt.grid()\n",
    "plt.show()"
   ]
  },
  {
   "cell_type": "markdown",
   "id": "07816c1d-c2c5-4f67-8f63-05159a119b1d",
   "metadata": {},
   "source": [
    "# Resampling Procedure"
   ]
  },
  {
   "cell_type": "code",
   "execution_count": 37,
   "id": "36003faa-9f6a-4ebf-bfd1-0f7fef2cc8a6",
   "metadata": {},
   "outputs": [
    {
     "name": "stdout",
     "output_type": "stream",
     "text": [
      "Observed means:\n",
      "       weight6weeks\n",
      "Diet              \n",
      "A        69.575000\n",
      "B        68.085185\n",
      "C        68.481481\n"
     ]
    }
   ],
   "source": [
    "observed_variance = data.groupby(\"Diet\").mean()\n",
    "print('Observed means:\\n', observed_variance[[\"weight6weeks\"]])"
   ]
  },
  {
   "cell_type": "code",
   "execution_count": 38,
   "id": "a9cec05d-beb2-497d-b30b-f254f68f8e60",
   "metadata": {},
   "outputs": [
    {
     "name": "stdout",
     "output_type": "stream",
     "text": [
      "Variance : \n",
      " weight          1.670618\n",
      "weight6weeks    0.595397\n",
      "dtype: float64\n"
     ]
    }
   ],
   "source": [
    "observed_variance = observed_variance.var()\n",
    "print(\"Variance : \\n\",observed_variance)"
   ]
  },
  {
   "cell_type": "code",
   "execution_count": 42,
   "id": "5976ed08-66ec-4e60-9203-6479e104f07b",
   "metadata": {},
   "outputs": [],
   "source": [
    "observed_variance = observed_variance[1]"
   ]
  },
  {
   "cell_type": "code",
   "execution_count": 55,
   "id": "19ec9b72-d710-43e7-976a-d7f8b2a19e04",
   "metadata": {},
   "outputs": [],
   "source": [
    "def per_test(df):\n",
    "    df = df.copy()\n",
    "    df[\"weight6weeks\"] = np.random.permutation(df[\"weight6weeks\"].values)\n",
    "    return df.groupby(\"Diet\").mean().var()[1]"
   ]
  },
  {
   "cell_type": "code",
   "execution_count": 65,
   "id": "ee487149-2452-447a-aad1-117d9f45c3a1",
   "metadata": {},
   "outputs": [],
   "source": [
    "per_variance = [per_test(data) for _ in range(3000)]"
   ]
  },
  {
   "cell_type": "code",
   "execution_count": 67,
   "id": "c57090cd-c38c-46b2-b300-b15e3c671e94",
   "metadata": {},
   "outputs": [
    {
     "data": {
      "image/png": "[encoded data removed]",
      "text/plain": [
       "<Figure size 432x288 with 1 Axes>"
      ]
     },
     "metadata": {
      "needs_background": "light"
     },
     "output_type": "display_data"
    }
   ],
   "source": [
    "plt.hist(per_variance, bins=30, rwidth=0.9) \n",
    "plt.show()"
   ]
  },
  {
   "cell_type": "code",
   "execution_count": 66,
   "id": "265fffea-5fac-4ebb-8d5b-c954a7f1b6cb",
   "metadata": {},
   "outputs": [
    {
     "name": "stdout",
     "output_type": "stream",
     "text": [
      "Pr(Prob) 0.8313333333333334\n"
     ]
    }
   ],
   "source": [
    "print(\"Pr(Prob)\", np.mean([var>observed_variance for var in per_variance]))"
   ]
  },
  {
   "cell_type": "markdown",
   "id": "acdcfdb1-3047-40b1-8a52-419d33285370",
   "metadata": {},
   "source": [
    "# F-Statistic"
   ]
  },
  {
   "cell_type": "markdown",
   "id": "c81e93d6-e0ec-4964-837c-8ac083b64384",
   "metadata": {},
   "source": [
    "## Statsmodels"
   ]
  },
  {
   "cell_type": "code",
   "execution_count": 75,
   "id": "1aff350d-e35b-4dc9-bc57-7496c8100c42",
   "metadata": {},
   "outputs": [],
   "source": [
    "import statsmodels.api as sm\n",
    "import statsmodels.formula.api as smf"
   ]
  },
  {
   "cell_type": "code",
   "execution_count": 78,
   "id": "6b1ed0e2-57c8-46d2-a0a5-f923bafa66c0",
   "metadata": {},
   "outputs": [],
   "source": [
    "model = smf.ols(\"weight6weeks ~ Diet\", data=data).fit()"
   ]
  },
  {
   "cell_type": "code",
   "execution_count": 79,
   "id": "51f74d9c-2e37-430e-b0f7-b81820d346cf",
   "metadata": {},
   "outputs": [
    {
     "data": {
      "text/html": [
       "<div>\n",
       "<style scoped>\n",
       "    .dataframe tbody tr th:only-of-type {\n",
       "        vertical-align: middle;\n",
       "    }\n",
       "\n",
       "    .dataframe tbody tr th {\n",
       "        vertical-align: top;\n",
       "    }\n",
       "\n",
       "    .dataframe thead th {\n",
       "        text-align: right;\n",
       "    }\n",
       "</style>\n",
       "<table border=\"1\" class=\"dataframe\">\n",
       "  <thead>\n",
       "    <tr style=\"text-align: right;\">\n",
       "      <th></th>\n",
       "      <th>df</th>\n",
       "      <th>sum_sq</th>\n",
       "      <th>mean_sq</th>\n",
       "      <th>F</th>\n",
       "      <th>PR(&gt;F)</th>\n",
       "    </tr>\n",
       "  </thead>\n",
       "  <tbody>\n",
       "    <tr>\n",
       "      <th>Diet</th>\n",
       "      <td>2.0</td>\n",
       "      <td>29.841339</td>\n",
       "      <td>14.920670</td>\n",
       "      <td>0.183362</td>\n",
       "      <td>0.832839</td>\n",
       "    </tr>\n",
       "    <tr>\n",
       "      <th>Residual</th>\n",
       "      <td>75.0</td>\n",
       "      <td>6102.959815</td>\n",
       "      <td>81.372798</td>\n",
       "      <td>NaN</td>\n",
       "      <td>NaN</td>\n",
       "    </tr>\n",
       "  </tbody>\n",
       "</table>\n",
       "</div>"
      ],
      "text/plain": [
       "            df       sum_sq    mean_sq         F    PR(>F)\n",
       "Diet       2.0    29.841339  14.920670  0.183362  0.832839\n",
       "Residual  75.0  6102.959815  81.372798       NaN       NaN"
      ]
     },
     "execution_count": 79,
     "metadata": {},
     "output_type": "execute_result"
    }
   ],
   "source": [
    "aov_table = sm.stats.anova_lm(model)\n",
    "aov_table"
   ]
  },
  {
   "cell_type": "code",
   "execution_count": null,
   "id": "a60332b7-08a8-4a2f-9bd4-2e666dc47efc",
   "metadata": {},
   "outputs": [],
   "source": []
  }
 ],
 "metadata": {
  "kernelspec": {
   "display_name": "Python 3 (ipykernel)",
   "language": "python",
   "name": "python3"
  },
  "language_info": {
   "codemirror_mode": {
    "name": "ipython",
    "version": 3
   },
   "file_extension": ".py",
   "mimetype": "text/x-python",
   "name": "python",
   "nbconvert_exporter": "python",
   "pygments_lexer": "ipython3",
   "version": "3.9.12"
  }
 },
 "nbformat": 4,
 "nbformat_minor": 5
}
