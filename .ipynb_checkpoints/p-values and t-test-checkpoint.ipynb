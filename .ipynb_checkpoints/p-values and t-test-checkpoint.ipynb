{
 "cells": [
  {
   "cell_type": "markdown",
   "id": "4d389a66-14d2-4d21-81bf-ca71ef4cafce",
   "metadata": {},
   "source": [
    "# Libraries"
   ]
  },
  {
   "cell_type": "code",
   "execution_count": 1,
   "id": "df1a6ac8-d2ea-4c60-92c4-e4b9f70d19f7",
   "metadata": {},
   "outputs": [],
   "source": [
    "import numpy as np\n",
    "import matplotlib.pyplot as plt\n",
    "import pandas as pd\n",
    "import os"
   ]
  },
  {
   "cell_type": "code",
   "execution_count": 2,
   "id": "689c2dca-9be1-4115-bf9d-8967fc4275c4",
   "metadata": {},
   "outputs": [],
   "source": [
    "from zipfile import ZipFile\n",
    "import random "
   ]
  },
  {
   "cell_type": "markdown",
   "id": "76ff167a-c6ac-40f0-aa09-4b058dd27dae",
   "metadata": {},
   "source": [
    "# DATA"
   ]
  },
  {
   "cell_type": "code",
   "execution_count": 3,
   "id": "434dc0e5-ab34-4958-9386-90af25427a72",
   "metadata": {},
   "outputs": [
    {
     "data": {
      "text/plain": [
       "'G:\\\\My Drive\\\\JOBI\\\\Data_science\\\\PUBLICADO\\\\Statistical_Experiments_and_Significance_Testing'"
      ]
     },
     "execution_count": 3,
     "metadata": {},
     "output_type": "execute_result"
    }
   ],
   "source": [
    "os.getcwd()"
   ]
  },
  {
   "cell_type": "code",
   "execution_count": 4,
   "id": "21fe5afb-b371-4c0c-a3c3-f5ad88ae04fe",
   "metadata": {},
   "outputs": [
    {
     "data": {
      "text/plain": [
       "['DATA_LAB', 'ab_data.zip', 'diet_anova.zip']"
      ]
     },
     "execution_count": 4,
     "metadata": {},
     "output_type": "execute_result"
    }
   ],
   "source": [
    "os.listdir(\"../../DATA_SET\")"
   ]
  },
  {
   "cell_type": "code",
   "execution_count": 6,
   "id": "968b2d1d-89b5-4313-84ab-292001c1314c",
   "metadata": {},
   "outputs": [],
   "source": [
    "path =  \"../../DATA_SET/ab_data.zip\""
   ]
  },
  {
   "cell_type": "code",
   "execution_count": 7,
   "id": "c0b52023-bf83-497e-a5e4-87a6a1a0c23e",
   "metadata": {},
   "outputs": [
    {
     "name": "stdout",
     "output_type": "stream",
     "text": [
      "File Name                                             Modified             Size\n",
      "ab_data.csv                                    2020-08-03 19:50:04     15901933\n"
     ]
    }
   ],
   "source": [
    "with ZipFile(path , \"r\") as zip:\n",
    "    zip.printdir()\n",
    "    with zip.open(\"ab_data.csv\") as f:\n",
    "        data = pd.read_csv(f)"
   ]
  },
  {
   "cell_type": "code",
   "execution_count": 8,
   "id": "630adb4f-2326-439f-b13a-224edfab7167",
   "metadata": {},
   "outputs": [
    {
     "data": {
      "text/html": [
       "<div>\n",
       "<style scoped>\n",
       "    .dataframe tbody tr th:only-of-type {\n",
       "        vertical-align: middle;\n",
       "    }\n",
       "\n",
       "    .dataframe tbody tr th {\n",
       "        vertical-align: top;\n",
       "    }\n",
       "\n",
       "    .dataframe thead th {\n",
       "        text-align: right;\n",
       "    }\n",
       "</style>\n",
       "<table border=\"1\" class=\"dataframe\">\n",
       "  <thead>\n",
       "    <tr style=\"text-align: right;\">\n",
       "      <th></th>\n",
       "      <th>user_id</th>\n",
       "      <th>timestamp</th>\n",
       "      <th>group</th>\n",
       "      <th>landing_page</th>\n",
       "      <th>converted</th>\n",
       "    </tr>\n",
       "  </thead>\n",
       "  <tbody>\n",
       "    <tr>\n",
       "      <th>0</th>\n",
       "      <td>851104</td>\n",
       "      <td>2017-01-21 22:11:48.556739</td>\n",
       "      <td>control</td>\n",
       "      <td>old_page</td>\n",
       "      <td>0</td>\n",
       "    </tr>\n",
       "    <tr>\n",
       "      <th>1</th>\n",
       "      <td>804228</td>\n",
       "      <td>2017-01-12 08:01:45.159739</td>\n",
       "      <td>control</td>\n",
       "      <td>old_page</td>\n",
       "      <td>0</td>\n",
       "    </tr>\n",
       "    <tr>\n",
       "      <th>2</th>\n",
       "      <td>661590</td>\n",
       "      <td>2017-01-11 16:55:06.154213</td>\n",
       "      <td>treatment</td>\n",
       "      <td>new_page</td>\n",
       "      <td>0</td>\n",
       "    </tr>\n",
       "    <tr>\n",
       "      <th>3</th>\n",
       "      <td>853541</td>\n",
       "      <td>2017-01-08 18:28:03.143765</td>\n",
       "      <td>treatment</td>\n",
       "      <td>new_page</td>\n",
       "      <td>0</td>\n",
       "    </tr>\n",
       "    <tr>\n",
       "      <th>4</th>\n",
       "      <td>864975</td>\n",
       "      <td>2017-01-21 01:52:26.210827</td>\n",
       "      <td>control</td>\n",
       "      <td>old_page</td>\n",
       "      <td>1</td>\n",
       "    </tr>\n",
       "  </tbody>\n",
       "</table>\n",
       "</div>"
      ],
      "text/plain": [
       "   user_id                   timestamp      group landing_page  converted\n",
       "0   851104  2017-01-21 22:11:48.556739    control     old_page          0\n",
       "1   804228  2017-01-12 08:01:45.159739    control     old_page          0\n",
       "2   661590  2017-01-11 16:55:06.154213  treatment     new_page          0\n",
       "3   853541  2017-01-08 18:28:03.143765  treatment     new_page          0\n",
       "4   864975  2017-01-21 01:52:26.210827    control     old_page          1"
      ]
     },
     "execution_count": 8,
     "metadata": {},
     "output_type": "execute_result"
    }
   ],
   "source": [
    "data.head()"
   ]
  },
  {
   "cell_type": "markdown",
   "id": "dca34f44-e243-4f09-9e01-9bbc0498b07f",
   "metadata": {},
   "source": [
    "# Convertion Rate "
   ]
  },
  {
   "cell_type": "markdown",
   "id": "db4cd563-0c33-405b-aad8-d15a8a40623c",
   "metadata": {},
   "source": [
    "**Definition:** The conversion rate is the percentage of users who take a desired action. The archetypical example of conversion rate is the percentage of website visitors who buy something on the site.\n",
    "\n",
    "To determine a conversion rate, divide the number of goals achieved in a given time frame by the total number of visitors to your website, then multiply that number by 100. So if your landing page had $16,982$ visitors and of those, $3,604$ took a desired action, then your conversion rate is $21.22\\%$"
   ]
  },
  {
   "cell_type": "markdown",
   "id": "f8caa132-be1f-46ee-8280-f3a447bf6e91",
   "metadata": {},
   "source": [
    "For our Dependent Variable (i.e. what we are trying to measure), we are interested in capturing the conversion rate. A way we can code this is by each user session with a binary variable:\n",
    "\n",
    "* 0 - The user did not buy the product during this user session\n",
    "\n",
    "* 1 - The user bought the product during this user session"
   ]
  },
  {
   "cell_type": "markdown",
   "id": "8b6315a5-c185-40f4-9a2b-6afccf2e08e2",
   "metadata": {},
   "source": [
    "The following permutation procedure asks, “If the two prices share the same conversion rate, could chance variation produce a difference as big as 5%?"
   ]
  },
  {
   "cell_type": "code",
   "execution_count": 10,
   "id": "c083d073-4409-484b-bd8c-2050a7c67ef5",
   "metadata": {},
   "outputs": [
    {
     "data": {
      "text/html": [
       "<div>\n",
       "<style scoped>\n",
       "    .dataframe tbody tr th:only-of-type {\n",
       "        vertical-align: middle;\n",
       "    }\n",
       "\n",
       "    .dataframe tbody tr th {\n",
       "        vertical-align: top;\n",
       "    }\n",
       "\n",
       "    .dataframe thead tr th {\n",
       "        text-align: left;\n",
       "    }\n",
       "\n",
       "    .dataframe thead tr:last-of-type th {\n",
       "        text-align: right;\n",
       "    }\n",
       "</style>\n",
       "<table border=\"1\" class=\"dataframe\">\n",
       "  <thead>\n",
       "    <tr>\n",
       "      <th></th>\n",
       "      <th>converted</th>\n",
       "    </tr>\n",
       "    <tr>\n",
       "      <th></th>\n",
       "      <th>mean</th>\n",
       "    </tr>\n",
       "    <tr>\n",
       "      <th>group</th>\n",
       "      <th></th>\n",
       "    </tr>\n",
       "  </thead>\n",
       "  <tbody>\n",
       "    <tr>\n",
       "      <th>control</th>\n",
       "      <td>0.120399</td>\n",
       "    </tr>\n",
       "    <tr>\n",
       "      <th>treatment</th>\n",
       "      <td>0.118920</td>\n",
       "    </tr>\n",
       "  </tbody>\n",
       "</table>\n",
       "</div>"
      ],
      "text/plain": [
       "          converted\n",
       "               mean\n",
       "group              \n",
       "control    0.120399\n",
       "treatment  0.118920"
      ]
     },
     "execution_count": 10,
     "metadata": {},
     "output_type": "execute_result"
    }
   ],
   "source": [
    "data[[\"group\",\"converted\"]].groupby(\"group\").agg([\"mean\"])"
   ]
  },
  {
   "cell_type": "markdown",
   "id": "146379b8-50de-4b2d-a5eb-590e895f90f9",
   "metadata": {},
   "source": [
    "There are $12.0399\\%$ and $11.8920\\%$ convertion rates for group A and B respectively. The difference is "
   ]
  },
  {
   "cell_type": "code",
   "execution_count": 11,
   "id": "363b67bb-b59d-416a-b217-059de1d255eb",
   "metadata": {},
   "outputs": [
    {
     "name": "stdout",
     "output_type": "stream",
     "text": [
      "Observed difference: 0.1479%\n"
     ]
    }
   ],
   "source": [
    "obs_pct_diff = (0.120399-0.118920)*100\n",
    "print(f'Observed difference: {obs_pct_diff:.4f}%')"
   ]
  },
  {
   "cell_type": "markdown",
   "id": "82e3f351-18a3-4c19-9a87-a4d69060e73d",
   "metadata": {},
   "source": [
    "less than$1\\%$"
   ]
  },
  {
   "cell_type": "markdown",
   "id": "29c85cf7-c93d-4b1c-a662-768174b33671",
   "metadata": {},
   "source": [
    "# Resampling"
   ]
  },
  {
   "cell_type": "markdown",
   "id": "ee0095d0-e827-4681-bd5a-0907e2881e1a",
   "metadata": {},
   "source": [
    "## Funcion resampling"
   ]
  },
  {
   "cell_type": "code",
   "execution_count": 12,
   "id": "ad26940b-28d1-40a6-9528-a795497d409e",
   "metadata": {},
   "outputs": [],
   "source": [
    "def perm_fun(x, nA, nB): \n",
    "    n = nA + nB \n",
    "    idx_B = set(random.sample(range(n), nB)) \n",
    "    idx_A = set(range(n)) - idx_B \n",
    "    return x.loc[list(idx_B)].mean() - x.loc[list(idx_A)].mean()"
   ]
  },
  {
   "cell_type": "markdown",
   "id": "9e180ce4-ef86-4b90-a7bc-212c5d3b75b3",
   "metadata": {},
   "source": [
    "## Table"
   ]
  },
  {
   "cell_type": "code",
   "execution_count": 13,
   "id": "60d4823e-b4b0-4cee-b4cb-488dafec6716",
   "metadata": {},
   "outputs": [],
   "source": [
    "table = pd.DataFrame(\n",
    "    {\n",
    "        \"outcome\":[\"converted\",\"no converted\"],\n",
    "        \"control\":[len(data[(data[\"group\"]==\"control\")&(data[\"converted\"]==1)]),\n",
    "                  len(data[(data[\"group\"]==\"control\")&(data[\"converted\"]==0)])],\n",
    "        \"treatment\":[len(data[(data[\"group\"]==\"treatment\")&(data[\"converted\"]==1)]),\n",
    "                     len(data[(data[\"group\"]==\"treatment\")&(data[\"converted\"]==0)])]\n",
    "    }\n",
    ").set_index(\"outcome\")\n",
    "#df2 = pd.DataFrame({\"control\": [len(data[data[\"group\"]==\"control\"])],\n",
    "#                    \"treatment\": [len(data[data[\"group\"]==\"treatment\"])]},\n",
    "#                   index=[\"total\"])\n",
    "\n",
    "#table = pd.concat([df1,df2])"
   ]
  },
  {
   "cell_type": "code",
   "execution_count": 15,
   "id": "18c1c87d-7bbd-4054-b995-21530544c34c",
   "metadata": {},
   "outputs": [],
   "source": [
    "table.loc[\"Total group\"] = table.sum(axis=0)\n",
    "table[\"total converted\"] = table.sum(axis=1)"
   ]
  },
  {
   "cell_type": "markdown",
   "id": "6e987b77-b15c-480f-bafb-709a915fa22d",
   "metadata": {},
   "source": [
    "## Procedure"
   ]
  },
  {
   "cell_type": "code",
   "execution_count": null,
   "id": "92a2e19a-0697-4f9c-bfef-fbd31657f067",
   "metadata": {},
   "outputs": [
    {
     "data": {
      "text/html": [
       "<div>\n",
       "<style scoped>\n",
       "    .dataframe tbody tr th:only-of-type {\n",
       "        vertical-align: middle;\n",
       "    }\n",
       "\n",
       "    .dataframe tbody tr th {\n",
       "        vertical-align: top;\n",
       "    }\n",
       "\n",
       "    .dataframe thead th {\n",
       "        text-align: right;\n",
       "    }\n",
       "</style>\n",
       "<table border=\"1\" class=\"dataframe\">\n",
       "  <thead>\n",
       "    <tr style=\"text-align: right;\">\n",
       "      <th></th>\n",
       "      <th>control</th>\n",
       "      <th>treatment</th>\n",
       "      <th>total converted</th>\n",
       "    </tr>\n",
       "    <tr>\n",
       "      <th>outcome</th>\n",
       "      <th></th>\n",
       "      <th></th>\n",
       "      <th></th>\n",
       "    </tr>\n",
       "  </thead>\n",
       "  <tbody>\n",
       "    <tr>\n",
       "      <th>converted</th>\n",
       "      <td>17723</td>\n",
       "      <td>17514</td>\n",
       "      <td>35237</td>\n",
       "    </tr>\n",
       "    <tr>\n",
       "      <th>no converted</th>\n",
       "      <td>129479</td>\n",
       "      <td>129762</td>\n",
       "      <td>259241</td>\n",
       "    </tr>\n",
       "    <tr>\n",
       "      <th>Total group</th>\n",
       "      <td>147202</td>\n",
       "      <td>147276</td>\n",
       "      <td>294478</td>\n",
       "    </tr>\n",
       "  </tbody>\n",
       "</table>\n",
       "</div>"
      ],
      "text/plain": [
       "              control  treatment  total converted\n",
       "outcome                                          \n",
       "converted       17723      17514            35237\n",
       "no converted   129479     129762           259241\n",
       "Total group    147202     147276           294478"
      ]
     },
     "execution_count": 16,
     "metadata": {},
     "output_type": "execute_result"
    }
   ],
   "source": [
    "table"
   ]
  },
  {
   "cell_type": "markdown",
   "id": "06113d48-eb58-4ed0-bdf0-ff36a3d0b26e",
   "metadata": {},
   "source": [
    "there are 35237 converted 1 and 259241 no converted 0."
   ]
  },
  {
   "cell_type": "code",
   "execution_count": 17,
   "id": "c6bb0d5f-0370-4736-850c-0670fb4749fb",
   "metadata": {},
   "outputs": [],
   "source": [
    "table_conversion = [0]*259241\n",
    "table_conversion.extend([1]*35237)\n",
    "table_conversion = pd.Series(table_conversion)"
   ]
  },
  {
   "cell_type": "code",
   "execution_count": 31,
   "id": "a98a188b-3c5a-4403-b7f5-e9f57d537602",
   "metadata": {},
   "outputs": [],
   "source": [
    "perm_diffs = [100*perm_fun(table_conversion, 147202, 147276) for _ in range(500)]"
   ]
  },
  {
   "cell_type": "markdown",
   "id": "494a5495-1ac0-4e0e-9d78-04a9cd675008",
   "metadata": {},
   "source": [
    "# Histrogram"
   ]
  },
  {
   "cell_type": "code",
   "execution_count": 35,
   "id": "301f79d2-9038-48c1-8e3a-10bc9be9404f",
   "metadata": {},
   "outputs": [
    {
     "name": "stdout",
     "output_type": "stream",
     "text": [
      "Observed difference in resampling is: 0.0005%\n"
     ]
    }
   ],
   "source": [
    "print(f'Observed difference in resampling is: {np.mean(perm_diffs):.4f}%')"
   ]
  },
  {
   "cell_type": "code",
   "execution_count": 36,
   "id": "bae791d6-ff8f-4f5a-b2be-151a043cf926",
   "metadata": {},
   "outputs": [
    {
     "name": "stdout",
     "output_type": "stream",
     "text": [
      "Observed difference: 0.1479%\n"
     ]
    }
   ],
   "source": [
    "print(f'Observed difference: {obs_pct_diff:.4f}%')"
   ]
  },
  {
   "cell_type": "code",
   "execution_count": 34,
   "id": "3380f414-6255-42a4-833d-2850a67bfa92",
   "metadata": {},
   "outputs": [
    {
     "data": {
      "image/png": "[encoded data removed]",
      "text/plain": [
       "<Figure size 360x360 with 1 Axes>"
      ]
     },
     "metadata": {
      "needs_background": "light"
     },
     "output_type": "display_data"
    }
   ],
   "source": [
    "%matplotlib inline\n",
    "fig, ax = plt.subplots(figsize=(5, 5))\n",
    "ax.hist(perm_diffs, bins=11, rwidth=0.9) \n",
    "ax.axvline(x=obs_pct_diff, color='black', lw=2) \n",
    "ax.axvline(x=np.mean(perm_diffs), color='black', lw=2)\n",
    "#ax.text(0.06, 200, 'Observed\\ndifference', bbox={'facecolor':'white'}) \n",
    "ax.set_xlabel('Conversion rate (percent)') \n",
    "ax.set_ylabel('Frequency')\n",
    "plt.show()"
   ]
  },
  {
   "cell_type": "markdown",
   "id": "c2d58395-0902-40aa-a53c-6220ca23fa36",
   "metadata": {},
   "source": [
    "# p-values"
   ]
  },
  {
   "cell_type": "markdown",
   "id": "c89261b1-05b2-4d8c-9b85-484020aa7cba",
   "metadata": {},
   "source": [
    "How often was the difference >= 0.1479%?"
   ]
  },
  {
   "cell_type": "code",
   "execution_count": 33,
   "id": "4d0bb44b-a7ff-494d-806d-cda84e81cdf3",
   "metadata": {},
   "outputs": [
    {
     "data": {
      "text/plain": [
       "0.122"
      ]
     },
     "execution_count": 33,
     "metadata": {},
     "output_type": "execute_result"
    }
   ],
   "source": [
    "np.mean(np.array(perm_diffs)>0.1479)"
   ]
  },
  {
   "cell_type": "markdown",
   "id": "fb134dd1-f9aa-4cff-b7e3-0be237734ad4",
   "metadata": {},
   "source": [
    "shows that mean difference of random permutations exceeds the observed difference (the vertical line) in   $12.2\\%$  of the cases"
   ]
  },
  {
   "cell_type": "markdown",
   "id": "70d02d5b-3a4b-4eb0-882c-5197ed7306ac",
   "metadata": {},
   "source": [
    "## Using scipy"
   ]
  },
  {
   "cell_type": "code",
   "execution_count": 23,
   "id": "f7dbce3b-2258-44ab-851e-556a3c91d576",
   "metadata": {},
   "outputs": [],
   "source": [
    "from scipy import stats"
   ]
  },
  {
   "cell_type": "code",
   "execution_count": 32,
   "id": "04bc4419-fd20-4bd0-bf64-dd0f3367d212",
   "metadata": {},
   "outputs": [
    {
     "name": "stdout",
     "output_type": "stream",
     "text": [
      "p-value for single sided test: 0.1091\n"
     ]
    }
   ],
   "source": [
    "survivors = np.array([[17723, 129479], [17514, 129762]]) \n",
    "chi2, p_value, df, _ = stats.chi2_contingency(survivors) \n",
    "print(f'p-value for single sided test: {p_value / 2:.4f}')"
   ]
  },
  {
   "cell_type": "markdown",
   "id": "63df978d-632c-4e33-80d3-c39875bca3b3",
   "metadata": {},
   "source": [
    "The normal approximation yields a p-value of $0.1091$, which is close to the p-value obtained from the permutation test"
   ]
  },
  {
   "cell_type": "markdown",
   "id": "91792242-228f-4f4e-abcc-ac0a2bb4c8d2",
   "metadata": {},
   "source": [
    "# t-test"
   ]
  },
  {
   "cell_type": "markdown",
   "id": "0bf6c068-6e07-43fe-859d-8a1c650de49b",
   "metadata": {},
   "source": [
    "## session time in minutes"
   ]
  },
  {
   "cell_type": "code",
   "execution_count": 41,
   "id": "0ecb615f-686b-4fce-b507-339691ec0a8f",
   "metadata": {},
   "outputs": [],
   "source": [
    "from datetime import datetime"
   ]
  },
  {
   "cell_type": "code",
   "execution_count": 42,
   "id": "54414a33-0cca-44ea-b331-109256ad5cda",
   "metadata": {},
   "outputs": [],
   "source": [
    "data[\"timestamp\"] = data[\"timestamp\"].apply(lambda x: x.split(\".\")[0])\n",
    "data[\"timestamp\"] = data[\"timestamp\"].apply(lambda x:\n",
    "                                            datetime.strptime(x,'%Y-%m-%d %H:%M:%S').hour*60+\n",
    "                                            datetime.strptime(x,'%Y-%m-%d %H:%M:%S').minute\n",
    "                                            )"
   ]
  },
  {
   "cell_type": "code",
   "execution_count": 46,
   "id": "402ac102-c4b3-4dd9-9e09-eb76ff2e3b9d",
   "metadata": {},
   "outputs": [
    {
     "data": {
      "text/html": [
       "<div>\n",
       "<style scoped>\n",
       "    .dataframe tbody tr th:only-of-type {\n",
       "        vertical-align: middle;\n",
       "    }\n",
       "\n",
       "    .dataframe tbody tr th {\n",
       "        vertical-align: top;\n",
       "    }\n",
       "\n",
       "    .dataframe thead th {\n",
       "        text-align: right;\n",
       "    }\n",
       "</style>\n",
       "<table border=\"1\" class=\"dataframe\">\n",
       "  <thead>\n",
       "    <tr style=\"text-align: right;\">\n",
       "      <th></th>\n",
       "      <th>user_id</th>\n",
       "      <th>timestamp_min</th>\n",
       "      <th>group</th>\n",
       "      <th>landing_page</th>\n",
       "      <th>converted</th>\n",
       "    </tr>\n",
       "  </thead>\n",
       "  <tbody>\n",
       "    <tr>\n",
       "      <th>0</th>\n",
       "      <td>851104</td>\n",
       "      <td>1331</td>\n",
       "      <td>control</td>\n",
       "      <td>old_page</td>\n",
       "      <td>0</td>\n",
       "    </tr>\n",
       "    <tr>\n",
       "      <th>1</th>\n",
       "      <td>804228</td>\n",
       "      <td>481</td>\n",
       "      <td>control</td>\n",
       "      <td>old_page</td>\n",
       "      <td>0</td>\n",
       "    </tr>\n",
       "    <tr>\n",
       "      <th>2</th>\n",
       "      <td>661590</td>\n",
       "      <td>1015</td>\n",
       "      <td>treatment</td>\n",
       "      <td>new_page</td>\n",
       "      <td>0</td>\n",
       "    </tr>\n",
       "    <tr>\n",
       "      <th>3</th>\n",
       "      <td>853541</td>\n",
       "      <td>1108</td>\n",
       "      <td>treatment</td>\n",
       "      <td>new_page</td>\n",
       "      <td>0</td>\n",
       "    </tr>\n",
       "    <tr>\n",
       "      <th>4</th>\n",
       "      <td>864975</td>\n",
       "      <td>112</td>\n",
       "      <td>control</td>\n",
       "      <td>old_page</td>\n",
       "      <td>1</td>\n",
       "    </tr>\n",
       "  </tbody>\n",
       "</table>\n",
       "</div>"
      ],
      "text/plain": [
       "   user_id  timestamp_min      group landing_page  converted\n",
       "0   851104           1331    control     old_page          0\n",
       "1   804228            481    control     old_page          0\n",
       "2   661590           1015  treatment     new_page          0\n",
       "3   853541           1108  treatment     new_page          0\n",
       "4   864975            112    control     old_page          1"
      ]
     },
     "execution_count": 46,
     "metadata": {},
     "output_type": "execute_result"
    }
   ],
   "source": [
    "data = data.rename(columns={\"timestamp\":\"timestamp_min\"})\n",
    "data.head()"
   ]
  },
  {
   "cell_type": "markdown",
   "id": "c79d915b-82ed-438b-b8ba-dcbbba9d2610",
   "metadata": {},
   "source": [
    "## Using scipy"
   ]
  },
  {
   "cell_type": "code",
   "execution_count": 50,
   "id": "e0eda1af-235f-4337-a26d-3d5d0e57253c",
   "metadata": {},
   "outputs": [
    {
     "name": "stdout",
     "output_type": "stream",
     "text": [
      "p-value for single sided test: 0.4184\n"
     ]
    }
   ],
   "source": [
    "res = stats.ttest_ind(data[data.group == 'control'].timestamp_min,\n",
    "                      data[data.group == 'treatment'].timestamp_min,\n",
    "                      equal_var=False)\n",
    "print(f'p-value for single sided test: {res.pvalue / 2:.4f}')"
   ]
  },
  {
   "cell_type": "markdown",
   "id": "e0326a3f-11f4-4576-9b0b-c2e158636c2d",
   "metadata": {},
   "source": [
    "Remenber that  mean difference of random permutations (resampling procedure) often exceeds the observed difference in session times  $42.2\\%$ of the cases (see notebook Resampling), using t-test we get $41.84\\%$."
   ]
  },
  {
   "cell_type": "code",
   "execution_count": null,
   "id": "48b34682-0a5a-4824-bdc6-83612c913304",
   "metadata": {},
   "outputs": [],
   "source": []
  }
 ],
 "metadata": {
  "kernelspec": {
   "display_name": "Python 3 (ipykernel)",
   "language": "python",
   "name": "python3"
  },
  "language_info": {
   "codemirror_mode": {
    "name": "ipython",
    "version": 3
   },
   "file_extension": ".py",
   "mimetype": "text/x-python",
   "name": "python",
   "nbconvert_exporter": "python",
   "pygments_lexer": "ipython3",
   "version": "3.9.12"
  }
 },
 "nbformat": 4,
 "nbformat_minor": 5
}
