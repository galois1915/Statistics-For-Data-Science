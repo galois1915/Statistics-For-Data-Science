{
 "cells": [
  {
   "cell_type": "markdown",
   "id": "ede2847d-1fad-4330-ba0f-5605dfa901f8",
   "metadata": {},
   "source": [
    "# Statistical Experiments and Inference\n",
    "\n",
    "Design of experiments is a cornerstone of the practice of statistical, with applications in virtually all areas of research. The goal is to design an experiment in order to confirm or reject a hypothesis."
   ]
  },
  {
   "cell_type": "markdown",
   "id": "7d3aa7bf-7540-40a0-9049-334b0ce1c71b",
   "metadata": {},
   "source": [
    "### Data for examples"
   ]
  },
  {
   "cell_type": "code",
   "execution_count": 1,
   "id": "e401c954-c45d-4b1d-a513-3ee0cfc6a257",
   "metadata": {},
   "outputs": [
    {
     "data": {
      "text/html": [
       "'/home/galois/Documents/galois2024/Statistics-For-Data-Science'"
      ],
      "text/latex": [
       "'/home/galois/Documents/galois2024/Statistics-For-Data-Science'"
      ],
      "text/markdown": [
       "'/home/galois/Documents/galois2024/Statistics-For-Data-Science'"
      ],
      "text/plain": [
       "[1] \"/home/galois/Documents/galois2024/Statistics-For-Data-Science\""
      ]
     },
     "metadata": {},
     "output_type": "display_data"
    }
   ],
   "source": [
    "getwd()"
   ]
  },
  {
   "cell_type": "code",
   "execution_count": 2,
   "id": "8b5e5738-bdd5-4f2d-8966-106237aa25a2",
   "metadata": {},
   "outputs": [],
   "source": [
    "data <- read.csv(\"data/UShealthInsurance/insurance.csv\")"
   ]
  },
  {
   "cell_type": "code",
   "execution_count": 3,
   "id": "0a945472-1fc7-4956-a995-1647833992d3",
   "metadata": {},
   "outputs": [
    {
     "data": {
      "text/html": [
       "<table class=\"dataframe\">\n",
       "<caption>A data.frame: 3 × 7</caption>\n",
       "<thead>\n",
       "\t<tr><th></th><th scope=col>age</th><th scope=col>sex</th><th scope=col>bmi</th><th scope=col>children</th><th scope=col>smoker</th><th scope=col>region</th><th scope=col>charges</th></tr>\n",
       "\t<tr><th></th><th scope=col>&lt;int&gt;</th><th scope=col>&lt;chr&gt;</th><th scope=col>&lt;dbl&gt;</th><th scope=col>&lt;int&gt;</th><th scope=col>&lt;chr&gt;</th><th scope=col>&lt;chr&gt;</th><th scope=col>&lt;dbl&gt;</th></tr>\n",
       "</thead>\n",
       "<tbody>\n",
       "\t<tr><th scope=row>1</th><td>19</td><td>female</td><td>27.90</td><td>0</td><td>yes</td><td>southwest</td><td>16884.924</td></tr>\n",
       "\t<tr><th scope=row>2</th><td>18</td><td>male  </td><td>33.77</td><td>1</td><td>no </td><td>southeast</td><td> 1725.552</td></tr>\n",
       "\t<tr><th scope=row>3</th><td>28</td><td>male  </td><td>33.00</td><td>3</td><td>no </td><td>southeast</td><td> 4449.462</td></tr>\n",
       "</tbody>\n",
       "</table>\n"
      ],
      "text/latex": [
       "A data.frame: 3 × 7\n",
       "\\begin{tabular}{r|lllllll}\n",
       "  & age & sex & bmi & children & smoker & region & charges\\\\\n",
       "  & <int> & <chr> & <dbl> & <int> & <chr> & <chr> & <dbl>\\\\\n",
       "\\hline\n",
       "\t1 & 19 & female & 27.90 & 0 & yes & southwest & 16884.924\\\\\n",
       "\t2 & 18 & male   & 33.77 & 1 & no  & southeast &  1725.552\\\\\n",
       "\t3 & 28 & male   & 33.00 & 3 & no  & southeast &  4449.462\\\\\n",
       "\\end{tabular}\n"
      ],
      "text/markdown": [
       "\n",
       "A data.frame: 3 × 7\n",
       "\n",
       "| <!--/--> | age &lt;int&gt; | sex &lt;chr&gt; | bmi &lt;dbl&gt; | children &lt;int&gt; | smoker &lt;chr&gt; | region &lt;chr&gt; | charges &lt;dbl&gt; |\n",
       "|---|---|---|---|---|---|---|---|\n",
       "| 1 | 19 | female | 27.90 | 0 | yes | southwest | 16884.924 |\n",
       "| 2 | 18 | male   | 33.77 | 1 | no  | southeast |  1725.552 |\n",
       "| 3 | 28 | male   | 33.00 | 3 | no  | southeast |  4449.462 |\n",
       "\n"
      ],
      "text/plain": [
       "  age sex    bmi   children smoker region    charges  \n",
       "1 19  female 27.90 0        yes    southwest 16884.924\n",
       "2 18  male   33.77 1        no     southeast  1725.552\n",
       "3 28  male   33.00 3        no     southeast  4449.462"
      ]
     },
     "metadata": {},
     "output_type": "display_data"
    }
   ],
   "source": [
    "head(data,n=3)"
   ]
  },
  {
   "cell_type": "markdown",
   "id": "1e9fa30b-4536-4454-9550-2d50d44a0b3c",
   "metadata": {},
   "source": [
    "* **mbi** Body mass index, providing an understanding of body, weights that are relatively high or low relative to\n",
    "* **sex** Insurance contractor gender, female / male\n",
    "* **charges** Individual medical costs billed by health insurance."
   ]
  },
  {
   "cell_type": "markdown",
   "id": "1a53a37c",
   "metadata": {},
   "source": [
    "## A/B testing\n",
    "Is an experiment with two groups to establish which of two *treatments*, products, procedures, or the like is superior. Often one of the two tretments is the *standard existing treatment* (control), or no treatment. A typical hypothesis is that a *new treatment is better than the control*.\n",
    "\n",
    "You know that any difference between the treatment groups is due to one two things:\n",
    "* The effect of the different treatments\n",
    "* Luck of the draw in which subject are assigned to which treatments.\n",
    "\n",
    "Note: Why have a control group? Why just A/B? Why not C,D,...?"
   ]
  },
  {
   "cell_type": "markdown",
   "id": "4bf01ef3",
   "metadata": {},
   "source": [
    "## Hypothesis test\n",
    "Hypothesis tests (significance test): Their purpose is to help you learn whether *random chance* might be responsible for an observed effect and is futher analysis of an A/B test, or any randomized experiment. Statistical hypothesis testing was invented as a way to protect researchs from being fooled by random chance.\n",
    "\n",
    "* **Null hypothesis**: Any difference between the groups is due chance.\n",
    "\n",
    "Oru hope, is that we can in fact prove the null hypothesis is wrong and show that the output comes for groups A and B are *more different than what chance might produce*.\n",
    "\n",
    "**Proof by contradiction:** If the null hypothesis is true, then A and B are similar. Therefore, when we apply *resampling methods* to the joint groups A and B and form two groups similar to A and B, there should not be a significant difference between them. Otherwise, the null hypothesis is incorrect. The question then arises: *how big must the difference be?*"
   ]
  },
  {
   "cell_type": "markdown",
   "id": "6b22877c",
   "metadata": {},
   "source": [
    "## Resampling\n",
    "*Resampling* in statistics means to repeatedly sample values from observed data, with a general goal of assessing random variability in a statistic. The are two main types:\n",
    "* **bootstrap test**: used to assess the reliability of an estimate. \n",
    "* **permutation test**: used to test hypotheses. The procedure is:\n",
    "    * combine the result ->\n",
    "    * randonmly draw(without replacement) to collect one set of resamlpes that mirror the sizes of the original samples ->\n",
    "    * calculated the *statistic or estimate* on it ->\n",
    "    * record (one permutation) ->\n",
    "    * build the distribution of the test statistic.\n",
    "\n",
    "There are two variants of the poermutation test: *exhaustive permutation test* (exact test) which instead of just randomly shuffing and dividing the data, we actually figure aout all the possible ways it could be divided; *bootstrap èrmutation test* which used replacement instead of without replacement."
   ]
  },
  {
   "cell_type": "code",
   "execution_count": 4,
   "id": "e76b9585-773c-41ca-b555-ff8c34507206",
   "metadata": {},
   "outputs": [],
   "source": [
    "# funtion to permutations\n",
    "perm_func <- function(nA,nB)\n",
    "    {\n",
    "    n <- nA+nB\n",
    "    idx_a <- sample(1:n, nA)\n",
    "    idx_b <- setdiff(1:n, idx_a)\n",
    "    #mean_diff <- mean(x[idx_b])-mean(x[idx_a])\n",
    "    return (list(a=idx_a, b=idx_b))\n",
    "    }"
   ]
  },
  {
   "cell_type": "markdown",
   "id": "964c910f",
   "metadata": {},
   "source": [
    "## Statistical significance\n",
    "*Statistical significance* is how statisticians masure whether an experiment (or even a study of existing data) yield a result more extreme than what change might produce. If the result is beyod the realm of change variation, it is said to be statistically significant.\n",
    "\n",
    "Simply looking at the graph is not very precise way to measure statistical significance, so of more interest is the *p-value*.\n",
    "* **p-value**: The p-value, or probability value, is a measure used in statistics to assess the evidence against a null hypothesis. This is the frequency with which the change model produce a result more extreme than the observed result. It represents the probability of observing the data or more extreme results if the null *hypothesis is true*.\n",
    "\n",
    "1. A small p-value (typically **less than 0.05**) suggests that the observed data is unlikely to have occurred if the null hypothesis is true. In such cases, researchers may reject the null hypothesis in favor of the alternative hypothesis.\n",
    "2. A large p-value (**greater than 0.05**) indicates that the observed data is not very unusual under the assumption of the null hypothesis. In this case, researchers may not have enough evidence to reject the null hypothesis.\n",
    "\n",
    "Statisticians  frown on the practice of leaving it to research's discretion to determine wheteher a result is too unusual to happend by chance. Rather, a threshold is specified in advance, as in \"more extreme than $5/%$ of the chance results\"; this threshold is known as **alpha**. (p-value controversy, practical significance).\n",
    "\n",
    "In assessing statistical significance, two error are possible:\n",
    "* **Type 1**: mistakenly conclude an effect is real, when it is really just due to chance (the basic function of hypothesis test is minimize this type of error).\n",
    "* **Type 2**: mistakenly conclude that an effect is not real (ie due to chance), when it actually is real.\n",
    "\n",
    "> **Note**: For a data scientist, a p-value is a usefull  metric in situations where you want to know whether a model result that appears interesting and useful is within the range of nrmal chance variability."
   ]
  },
  {
   "cell_type": "markdown",
   "id": "d2123844-d37d-43a9-ad4a-21fb8985460d",
   "metadata": {},
   "source": [
    "### Example: Are the bmi in smokers higher than in non-smokers?"
   ]
  },
  {
   "cell_type": "markdown",
   "id": "5b541975-f0f7-4b99-ab62-c10937e9e7fa",
   "metadata": {},
   "source": [
    "* **Null hypothesis**: there aren't difference between them. Their means are similar."
   ]
  },
  {
   "cell_type": "code",
   "execution_count": 12,
   "id": "cba75d44-6893-4036-aada-fdb4b7b03611",
   "metadata": {},
   "outputs": [],
   "source": [
    "library(ggplot2)"
   ]
  },
  {
   "cell_type": "code",
   "execution_count": 13,
   "id": "a17ea0b3-9aae-4bc2-8db6-49cf1648be25",
   "metadata": {},
   "outputs": [],
   "source": [
    "column <- \"bmi\""
   ]
  },
  {
   "cell_type": "code",
   "execution_count": 14,
   "id": "e1564895-2958-4c72-8fbc-d26de989bcc0",
   "metadata": {},
   "outputs": [
    {
     "data": {
      "image/png": "[encoded data removed]",
      "text/plain": [
       "plot without title"
      ]
     },
     "metadata": {
      "image/png": {
       "height": 420,
       "width": 420
      }
     },
     "output_type": "display_data"
    }
   ],
   "source": [
    "ggplot(data, aes(x=smoker, y=bmi)) + geom_boxplot()"
   ]
  },
  {
   "cell_type": "code",
   "execution_count": 15,
   "id": "e91ece98-559b-449a-9a1a-20ae510f60ba",
   "metadata": {},
   "outputs": [
    {
     "name": "stdout",
     "output_type": "stream",
     "text": [
      "[1] 30.70845\n",
      "[1] 30.6518\n"
     ]
    },
    {
     "data": {
      "text/plain": [
       "\n",
       "  no  yes \n",
       "1064  274 "
      ]
     },
     "metadata": {},
     "output_type": "display_data"
    }
   ],
   "source": [
    "mean_a = mean(data[data[\"smoker\"]==\"yes\",column])\n",
    "print(mean_a)\n",
    "mean_b = mean(data[data[\"smoker\"]==\"no\",column])\n",
    "print(mean_b)\n",
    "table(data$smoker)"
   ]
  },
  {
   "cell_type": "code",
   "execution_count": 16,
   "id": "37e76243-90c3-4152-8c0e-cdffe144ef47",
   "metadata": {},
   "outputs": [],
   "source": [
    "estimate <- rep(0,1000)\n",
    "for (i in 1:1000){\n",
    "    index <- perm_func(1064, 274)\n",
    "    estimate[i] <- mean(data[index$a,column]) - mean(data[index$b,column])\n",
    "}"
   ]
  },
  {
   "cell_type": "code",
   "execution_count": 17,
   "id": "87435402-a5ad-4773-8bb2-da6c17ee9c5d",
   "metadata": {},
   "outputs": [
    {
     "data": {
      "image/png": "[encoded data removed]",
      "text/plain": [
       "Plot with title “Histogram of estimate”"
      ]
     },
     "metadata": {
      "image/png": {
       "height": 420,
       "width": 420
      }
     },
     "output_type": "display_data"
    }
   ],
   "source": [
    "hist(estimate, xlab=column)\n",
    "abline(v=mean_a-mean_b)"
   ]
  },
  {
   "cell_type": "code",
   "execution_count": 18,
   "id": "45b0404f-bb97-4d03-bd11-c9ee684b7c4c",
   "metadata": {},
   "outputs": [],
   "source": [
    "p_value <- mean( estimate > (mean_a-mean_b) )"
   ]
  },
  {
   "cell_type": "code",
   "execution_count": 19,
   "id": "dcef0ad6-a9a1-47c9-8d16-27ca955bb185",
   "metadata": {},
   "outputs": [
    {
     "data": {
      "text/html": [
       "0.448"
      ],
      "text/latex": [
       "0.448"
      ],
      "text/markdown": [
       "0.448"
      ],
      "text/plain": [
       "[1] 0.448"
      ]
     },
     "metadata": {},
     "output_type": "display_data"
    }
   ],
   "source": [
    "p_value"
   ]
  },
  {
   "cell_type": "markdown",
   "id": "2711ea53-a4d0-4571-8b37-190cb35a2b71",
   "metadata": {},
   "source": [
    "We would expect to achieve a result as extreme as this, or more extreme result, by random chance over $\\%40$ of the time. The observed data is not very unusual under the assumption of the null hypothesis"
   ]
  },
  {
   "cell_type": "markdown",
   "id": "7ee04f57-6399-46b1-b013-d7de8172f669",
   "metadata": {},
   "source": [
    "### Example: Are men more likely to smoke?"
   ]
  },
  {
   "cell_type": "markdown",
   "id": "d280fa0c-6276-427d-907c-05cccccf1d12",
   "metadata": {},
   "source": [
    "* **Null Hypothesis**: rate of male in each group is the same."
   ]
  },
  {
   "cell_type": "code",
   "execution_count": 20,
   "id": "9aac26bc-2654-40ac-a228-5c2b9980c783",
   "metadata": {},
   "outputs": [
    {
     "data": {
      "text/plain": [
       "\n",
       "female   male \n",
       "   115    159 "
      ]
     },
     "metadata": {},
     "output_type": "display_data"
    }
   ],
   "source": [
    "table(data[data$smoker==\"yes\",\"sex\"]) # rate of male in smoker"
   ]
  },
  {
   "cell_type": "code",
   "execution_count": 21,
   "id": "6bfae740-5403-4bd1-852a-4aca9f1ee53f",
   "metadata": {},
   "outputs": [
    {
     "data": {
      "text/html": [
       "0.58029197080292"
      ],
      "text/latex": [
       "0.58029197080292"
      ],
      "text/markdown": [
       "0.58029197080292"
      ],
      "text/plain": [
       "[1] 0.580292"
      ]
     },
     "metadata": {},
     "output_type": "display_data"
    }
   ],
   "source": [
    "mean_s <- 159/(115+159)\n",
    "mean_s"
   ]
  },
  {
   "cell_type": "code",
   "execution_count": 22,
   "id": "041414a1-a2aa-4081-aff4-5eda33a7be2c",
   "metadata": {},
   "outputs": [
    {
     "data": {
      "text/plain": [
       "\n",
       "female   male \n",
       "   547    517 "
      ]
     },
     "metadata": {},
     "output_type": "display_data"
    }
   ],
   "source": [
    "table(data[data$smoker==\"no\",\"sex\"]) # rate of male in no smoker"
   ]
  },
  {
   "cell_type": "code",
   "execution_count": 23,
   "id": "6dd01864-912f-4db6-bcd0-c0c4c54a45e9",
   "metadata": {},
   "outputs": [
    {
     "data": {
      "text/html": [
       "0.485902255639098"
      ],
      "text/latex": [
       "0.485902255639098"
      ],
      "text/markdown": [
       "0.485902255639098"
      ],
      "text/plain": [
       "[1] 0.4859023"
      ]
     },
     "metadata": {},
     "output_type": "display_data"
    }
   ],
   "source": [
    "mean_n <- 517/(517+547)\n",
    "mean_n"
   ]
  },
  {
   "cell_type": "code",
   "execution_count": 24,
   "id": "658dd1fd-4965-4c57-8c08-3d3a3668a1dd",
   "metadata": {},
   "outputs": [],
   "source": [
    "estimate <- rep(0,1000)\n",
    "for (i in 1:1000){\n",
    "    index <- perm_func(115+159, 547+517) # smoker, no smoker\n",
    "    estimate[i] <- mean(data[index$a,\"sex\"]==\"male\") - mean(data[index$b,\"sex\"]==\"male\")\n",
    "}"
   ]
  },
  {
   "cell_type": "code",
   "execution_count": 25,
   "id": "237995d4-8fca-48ae-a835-d63f73296e89",
   "metadata": {},
   "outputs": [
    {
     "data": {
      "image/png": "[encoded data removed]",
      "text/plain": [
       "Plot with title “Histogram of estimate”"
      ]
     },
     "metadata": {
      "image/png": {
       "height": 420,
       "width": 420
      }
     },
     "output_type": "display_data"
    }
   ],
   "source": [
    "hist(estimate)\n",
    "abline(v=mean_s-mean_n)"
   ]
  },
  {
   "cell_type": "code",
   "execution_count": 26,
   "id": "d3e33065-8459-43a7-ae56-8090c9a10288",
   "metadata": {},
   "outputs": [
    {
     "data": {
      "text/html": [
       "0.003"
      ],
      "text/latex": [
       "0.003"
      ],
      "text/markdown": [
       "0.003"
      ],
      "text/plain": [
       "[1] 0.003"
      ]
     },
     "metadata": {},
     "output_type": "display_data"
    }
   ],
   "source": [
    "p_value <- mean( estimate > (mean_s-mean_n))\n",
    "p_value"
   ]
  },
  {
   "cell_type": "markdown",
   "id": "93a0d96f-c52e-4abb-9adc-cd90fa0c3026",
   "metadata": {},
   "source": [
    "\"If we assume that there is no difference between them, the observed data is unusual; we would observe that the difference in the proportion of men in both smokers and non-smokers groups, respectively, is equal to or greater than the observed difference in means only 0.2% of the time.\"\n",
    "\n",
    "You might have evidence to reject the null hypothesis."
   ]
  },
  {
   "cell_type": "markdown",
   "id": "85cd4b7b-4739-4e98-b821-6ee8202b3096",
   "metadata": {},
   "source": [
    "Since we have a binomial distribution, we can approximate the p-value with:"
   ]
  },
  {
   "cell_type": "code",
   "execution_count": 27,
   "id": "89713ad2-236f-4c70-a24d-6492e2ac47b5",
   "metadata": {},
   "outputs": [
    {
     "data": {
      "text/plain": [
       "\n",
       "\t2-sample test for equality of proportions with continuity correction\n",
       "\n",
       "data:  c(159, 517) out of c(115 + 159, 517 + 547)\n",
       "X-squared = 7.3929, df = 1, p-value = 0.006548\n",
       "alternative hypothesis: two.sided\n",
       "95 percent confidence interval:\n",
       " 0.02639507 0.16238437\n",
       "sample estimates:\n",
       "   prop 1    prop 2 \n",
       "0.5802920 0.4859023 \n"
      ]
     },
     "metadata": {},
     "output_type": "display_data"
    }
   ],
   "source": [
    "prop.test( x=c(159,517), n=c(115+159, 517+547) )"
   ]
  },
  {
   "cell_type": "markdown",
   "id": "eaf44d61-a956-4623-a862-2fabff1e4921",
   "metadata": {},
   "source": [
    "is close value to p-value obteined from the permutation test."
   ]
  },
  {
   "cell_type": "markdown",
   "id": "503e04c7-643f-4e66-bd50-ba07fbc178d7",
   "metadata": {},
   "source": [
    "**Note**: Is possible use the <code>pro.test</code> function in the first example?"
   ]
  },
  {
   "cell_type": "markdown",
   "id": "0139ec75",
   "metadata": {},
   "source": [
    "## t-test\n",
    "Statisticians found that a good approximation to the permutation (shuffled) distribution was the t-test, based on **Gosset's t-distribution**. It is used for the very commin two-sample comparison -A/B test- in which the data is numeric. But in order for the t-distribution to be used without regard to scale, a **standardized form of the test statistic** must be used.\n",
    "\n",
    "> **Note**: Statisticians need to navigate that world and learn its map, but data scientists do not."
   ]
  },
  {
   "cell_type": "code",
   "execution_count": null,
   "id": "5e34a8f7-d7c2-4e70-8e29-20f84fdd0aa1",
   "metadata": {},
   "outputs": [],
   "source": [
    "###############"
   ]
  },
  {
   "cell_type": "markdown",
   "id": "fb1f9cf6",
   "metadata": {},
   "source": [
    "## Multiple testing\n",
    "If you look at the data through enough different perspectives and ask enough questions, you almost invariably will find a statistically significant effect. The more variables you add, or more models you run, the grreater the probability that something will emerge as significant just by chance. In supervised lerning tasks, a holdout is used to avoid this. In statistical and machine learning task not involving  a labebles holdout set, the risk of reaching conclusions based on statistical noise persists.\n",
    "\n",
    "In statistics, there are some procedures to deal with this problem in very specific circunstances.\n",
    "* Bonferroni adjusment\n",
    "* Tukey's HSD\n",
    "\n",
    "However, the problem of multiple comparisons goes beyond these highly structures cases (find something interesting in the data, including multiplicity issues) .\n",
    "\n",
    "In any case, the adjusment procedure for highly defined and structured statistical test are too specific and inflexible to be of general use to data scientists. The botton line for data scientists on multiplicity is:\n",
    "* use cross-validation and holdpout sample.\n",
    "* for other procedures without a labeled holdout set to check the model, you must rely on: chance might play, resampling and simulation heuristics."
   ]
  },
  {
   "cell_type": "markdown",
   "id": "9a0354a7-053b-4fd0-8d97-5e48fdd84c6b",
   "metadata": {},
   "source": [
    "## Degree of Freedom\n",
    "Number of values free to vary. The degree of freedom parameter, as applied to many probability distributions, affects the shape of the distribution and is an input to many statistical tests. Degrees of freedom is part of the standardization calculation  for statistical formulas and for large data size it rarely makes difference. \n",
    "\n",
    "> **Note**: There is one context in which is relevant: the use of **factorized variables** in regression (dummies)."
   ]
  },
  {
   "cell_type": "markdown",
   "id": "af51fdc6",
   "metadata": {},
   "source": [
    "## ANOVA\n",
    "The statistical procedure that tests for  a statistically significant difference among the groups is called analysis of variance (ANOVA). Similar to A/B test we can use **resampling procedure** but in this case a single hypothesis test of the overall variance among multiple group means (**omnibus test**) is used: combine data -> shuffle and draw out resamples of the same size of groups -> record the means -> record the variance amongs the groups -> repeat.\n",
    "\n",
    "What is the proportion of the time did the resampled variance exceed the observed variance? This is the **p-value**.\n",
    "\n",
    "Just like t-test can be used instead of permutation test for comparing the mean of two groups there is a statistical test for ANOVA based on the F-statistic.\n",
    "\n",
    "* **F-statistic** is based on the ratio of the variance across group means to the variance due to residual error. The higher this ratio, the more statistically significant the result.\n",
    "* **Two-way ANOVA**"
   ]
  },
  {
   "cell_type": "code",
   "execution_count": null,
   "id": "45498721-3700-438a-8c6f-22201c2f3127",
   "metadata": {},
   "outputs": [],
   "source": [
    "#################"
   ]
  },
  {
   "cell_type": "markdown",
   "id": "0e95f2f3",
   "metadata": {},
   "source": [
    "## Chi-Square test\n",
    "Web testing often goes beyong A/B testing and tests **multiple treatments at once**. The chi-square test is used with count data to test how well it fits some expected distribution. The most common use of the chi-square statistic in statistical practice is with $r\\times c$ contingency tables, to asssess whether the **null hypothesis of independence among variables is rasonable**.\n",
    "\n",
    "#### Resampling approach:\n",
    "* **Constitute a box** with 34 one (clicks) and 2966 zeros (no cliks).\n",
    "* **Shuffle**, take three separate **samples** of 1000 and count the clicks in each.\n",
    "* Find the **squared differences** between the shuffled counts and the expected counts and sum them. You can use *Pearson residual* $$R = \\frac{Observed-Expected}{\\sqrt{Expected}}$$ where expected is under null hypothesis assumption. The sum is the **chi-square statistic** $$X=\\sum_i^r \\sum_j^cR^2$$\n",
    "* Repeat steps 2 and 3, say, 1000 times.\n",
    "* How often does the resampled sum of queared deviations exceed the observed? That's the p-value.\n",
    "\n",
    "\n",
    "The chi-squared distribution is a good aproximation of the shuffled resamlping test just described, except when counts are extemely low (sinlge digits, especially five or fewer). In such cases, the resampling procedure (**Ficher's exact**) will yield more accurate p-values. \n",
    "\n",
    "#### Statistical theory:\n",
    "Asymptotic statstical theory shows that the **distribution of the chi-square statistic can be approximated by a chi-square distribution** (determined by the degrees of freedom). The futher out on the chi-square distribution the observed statistic is, the lower the p-value.\n",
    "\n",
    "> **Note**: The chi-square test, or Fisher's exact test, is used when you want to know whether an effect is for real or might be the **product of chance**. One data science application of the chi-square test, especially Fisher's exact version, is in determinaning appropriate **sample size for web experiments**. Shi-square tests, or similar resampling simulations, are used in data science applications more as a filter to determine **whether an effect or feature is worthy** of futher consideration than as a formal test of significance. They are used in:\n",
    "> * spatial statistics and mapping to determine whether  spatial data conforms to a specified null distribution.\n",
    "> * automated feature selection, to assess class prevalence across features and identify features where the prevalence of a certain class is unusually hight or low, in a way that is not compatible with random variation."
   ]
  },
  {
   "cell_type": "code",
   "execution_count": null,
   "id": "0d9c7613-ad42-4f47-89c1-cdda1fdd84ab",
   "metadata": {},
   "outputs": [],
   "source": []
  },
  {
   "cell_type": "markdown",
   "id": "427f940c",
   "metadata": {},
   "source": [
    "## Multi-Arm Bandit Algorithm\n",
    "Difficulties with traditional A/B test:\n",
    "* Our answer may be inconclusive\n",
    "* We might want to begin taking advantage of resutls that come in prior to the conclution of the experiment.\n",
    "* We may want to right to xhange our minds or to try something different based on additional data that comes in after the experiment is over.\n",
    "\n",
    "Multi-armed bandint: Your goal is to win as much money as possible and, more specically, to identify and settle on the winning arm sooner rather than later. The challenge is that you don't know at what overall rate the arm  pay out - you only know the result of individual pulls on the arms.\n",
    "\n",
    "#### Epsilon-greedy algorithm for an A/B test:\n",
    "* Generate a uniformly distributed random number between 0 and 1.\n",
    "* If the number lies between 0 and epsilon(where epsilon is a number between 0 and 1, typically fairly samll), flip a fair coin (50/50 probability) and\n",
    "    * if the coin is head, show offer A\n",
    "    * if the coin is tails, show offer B\n",
    "* If the number is $>\\epsilon$, show whichever offer has had the hight response rate to date.\n",
    "\n",
    "#### Thompson's sampling\n",
    "Use a Bayesian approach: some prior distribution of reward is assumed initially, using what is called a *beta distribution*. As information accumulaes from each draw, this information can be update, allowing the selection of the next draw to be better optimizer as far as choosing the right arm."
   ]
  },
  {
   "cell_type": "markdown",
   "id": "59c6403b",
   "metadata": {},
   "source": [
    "## Power and Sample Size\n",
    "If you run a web test, how do you decide how long it should run? There is not egenral guide - it depends, mainly, on the frequency with which the desired goal is attained.\n",
    "\n",
    "**Power is the probability of detecting a specified effect size with specified sample characterisitcs (size and variability)**. \n",
    "For example, we might say that the probability of distinguishing between  a .330h hitter and .200 hitter in 25 at-bats is 0.75. The **effect size** is a difference of .130. And **detecting** means that a hypothesis test will reject the null hypothesis of \"no difference\" and conclude thare is a real effect. So the experiment of 25 at-abts ($n=25$) for two hitters, with an effect size of .130, has(hypothetical) **power** of $0.75$, or $75\\%$.\n",
    "\n",
    "Collecting data involves cost, alternative approach:\n",
    "* Start with some hypothetical data that represents your best guess about the data that will result.\n",
    "* Create a second sample simply adding the desired effect size to the first sample\n",
    "* Draw a bootstrao samlpe of size n from each box\n",
    "* Conduct a permutation hypothesis test on the two bootstrap samples and record whether the difference between them is statistically significant.\n",
    "* Repead the preceding two steps many times and determine how often the difference was significant - that's the estimated power.\n",
    "\n",
    "For calculating power or requiewd sample size, there are four moving parts:\n",
    "* Sample size\n",
    "* Effect size you want to detect\n",
    "* Significance level (alpha) at which the test will be conducted\n",
    "* Power\n",
    "\n",
    "Specify any three of them, and the fourth can be calculated. Most commonly, you would want tio calculate **samples size**, so you must specifify the other three.\n",
    "  "
   ]
  },
  {
   "cell_type": "code",
   "execution_count": null,
   "id": "7988d889-6391-4064-90c1-a51ac365635c",
   "metadata": {},
   "outputs": [],
   "source": []
  },
  {
   "cell_type": "markdown",
   "id": "6e04512b-793b-4ab4-9061-bbf15265dbf9",
   "metadata": {},
   "source": [
    "Books:\n",
    "* Introductory statistics and analytics: A resamplng respective by Peter bruce\n",
    "* Statistics by David freedman 4d\n",
    "* The basic practice of statistics 8tf by David S.Moore\n",
    "* BAndint algorithms for website optimizaition by John Myles Withe\n",
    "* Sample size determination and power by Thomas Ryan"
   ]
  }
 ],
 "metadata": {
  "kernelspec": {
   "display_name": "R [conda env:r_env] *",
   "language": "R",
   "name": "conda-env-r_env-r"
  },
  "language_info": {
   "codemirror_mode": "r",
   "file_extension": ".r",
   "mimetype": "text/x-r-source",
   "name": "R",
   "pygments_lexer": "r",
   "version": "4.3.1"
  }
 },
 "nbformat": 4,
 "nbformat_minor": 5
}
